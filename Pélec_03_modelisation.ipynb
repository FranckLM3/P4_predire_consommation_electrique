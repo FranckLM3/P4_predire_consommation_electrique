{
 "cells": [
  {
   "cell_type": "code",
   "execution_count": 1,
   "id": "8dd09aa6-0326-4564-823c-b4aa22c2710f",
   "metadata": {},
   "outputs": [],
   "source": [
    "import numpy as np\n",
    "import pandas as pd\n",
    "import matplotlib.pyplot as plt\n",
    "import seaborn as sns\n",
    "import time\n",
    "\n",
    "%load_ext pycodestyle_magic"
   ]
  },
  {
   "cell_type": "code",
   "execution_count": 2,
   "id": "8d2af292-5a82-4a90-bc4c-3efda3a53b70",
   "metadata": {},
   "outputs": [],
   "source": [
    "data = pd.read_csv('data/DRV_seattleBuilding_full.csv')"
   ]
  },
  {
   "cell_type": "code",
   "execution_count": 3,
   "id": "2e1c51e0-21cb-4a75-a85b-fe8046a8d7e7",
   "metadata": {},
   "outputs": [
    {
     "data": {
      "text/html": [
       "<div>\n",
       "<style scoped>\n",
       "    .dataframe tbody tr th:only-of-type {\n",
       "        vertical-align: middle;\n",
       "    }\n",
       "\n",
       "    .dataframe tbody tr th {\n",
       "        vertical-align: top;\n",
       "    }\n",
       "\n",
       "    .dataframe thead th {\n",
       "        text-align: right;\n",
       "    }\n",
       "</style>\n",
       "<table border=\"1\" class=\"dataframe\">\n",
       "  <thead>\n",
       "    <tr style=\"text-align: right;\">\n",
       "      <th></th>\n",
       "      <th>DataYear</th>\n",
       "      <th>BuildingType</th>\n",
       "      <th>PrimaryPropertyType</th>\n",
       "      <th>ZipCode</th>\n",
       "      <th>CouncilDistrictCode</th>\n",
       "      <th>Neighborhood</th>\n",
       "      <th>Latitude</th>\n",
       "      <th>Longitude</th>\n",
       "      <th>YearBuilt</th>\n",
       "      <th>NumberofBuildings</th>\n",
       "      <th>...</th>\n",
       "      <th>ThirdLargestPropertyUseType</th>\n",
       "      <th>ThirdLargestPropertyUseTypeGFA</th>\n",
       "      <th>ENERGYSTARScore</th>\n",
       "      <th>SiteEnergyUse(kBtu)</th>\n",
       "      <th>TotalGHGEmissions</th>\n",
       "      <th>median_SourceEUI(kBtu/sf)</th>\n",
       "      <th>median_SiteEUI(kBtu/sf)</th>\n",
       "      <th>p_NaturalGas</th>\n",
       "      <th>p_Electricity</th>\n",
       "      <th>p_SteamUse</th>\n",
       "    </tr>\n",
       "  </thead>\n",
       "  <tbody>\n",
       "    <tr>\n",
       "      <th>0</th>\n",
       "      <td>2015</td>\n",
       "      <td>NonResidential</td>\n",
       "      <td>Hotel/Senior Care/Housing</td>\n",
       "      <td>98101.0</td>\n",
       "      <td>7</td>\n",
       "      <td>DOWNTOWN</td>\n",
       "      <td>47.612190</td>\n",
       "      <td>-122.337997</td>\n",
       "      <td>1927</td>\n",
       "      <td>1.0</td>\n",
       "      <td>...</td>\n",
       "      <td>No information</td>\n",
       "      <td>0.0</td>\n",
       "      <td>65.0</td>\n",
       "      <td>6981428.0</td>\n",
       "      <td>249.43</td>\n",
       "      <td>162.0</td>\n",
       "      <td>76.0</td>\n",
       "      <td>0.18</td>\n",
       "      <td>0.53</td>\n",
       "      <td>0.29</td>\n",
       "    </tr>\n",
       "    <tr>\n",
       "      <th>1</th>\n",
       "      <td>2015</td>\n",
       "      <td>NonResidential</td>\n",
       "      <td>Hotel/Senior Care/Housing</td>\n",
       "      <td>98101.0</td>\n",
       "      <td>7</td>\n",
       "      <td>DOWNTOWN</td>\n",
       "      <td>47.613106</td>\n",
       "      <td>-122.333358</td>\n",
       "      <td>1996</td>\n",
       "      <td>1.0</td>\n",
       "      <td>...</td>\n",
       "      <td>Leisure</td>\n",
       "      <td>4622.0</td>\n",
       "      <td>51.0</td>\n",
       "      <td>8354235.0</td>\n",
       "      <td>263.51</td>\n",
       "      <td>162.0</td>\n",
       "      <td>76.0</td>\n",
       "      <td>0.53</td>\n",
       "      <td>0.47</td>\n",
       "      <td>0.00</td>\n",
       "    </tr>\n",
       "    <tr>\n",
       "      <th>2</th>\n",
       "      <td>2015</td>\n",
       "      <td>NonResidential</td>\n",
       "      <td>Hotel/Senior Care/Housing</td>\n",
       "      <td>98101.0</td>\n",
       "      <td>7</td>\n",
       "      <td>DOWNTOWN</td>\n",
       "      <td>47.613349</td>\n",
       "      <td>-122.337699</td>\n",
       "      <td>1969</td>\n",
       "      <td>1.0</td>\n",
       "      <td>...</td>\n",
       "      <td>Swimming Pool</td>\n",
       "      <td>0.0</td>\n",
       "      <td>18.0</td>\n",
       "      <td>73130656.0</td>\n",
       "      <td>2061.48</td>\n",
       "      <td>162.0</td>\n",
       "      <td>76.0</td>\n",
       "      <td>0.05</td>\n",
       "      <td>0.68</td>\n",
       "      <td>0.27</td>\n",
       "    </tr>\n",
       "    <tr>\n",
       "      <th>3</th>\n",
       "      <td>2015</td>\n",
       "      <td>NonResidential</td>\n",
       "      <td>Hotel/Senior Care/Housing</td>\n",
       "      <td>98101.0</td>\n",
       "      <td>7</td>\n",
       "      <td>DOWNTOWN</td>\n",
       "      <td>47.614216</td>\n",
       "      <td>-122.336609</td>\n",
       "      <td>1926</td>\n",
       "      <td>1.0</td>\n",
       "      <td>...</td>\n",
       "      <td>No information</td>\n",
       "      <td>0.0</td>\n",
       "      <td>1.0</td>\n",
       "      <td>28229320.0</td>\n",
       "      <td>1936.34</td>\n",
       "      <td>162.0</td>\n",
       "      <td>76.0</td>\n",
       "      <td>0.07</td>\n",
       "      <td>0.10</td>\n",
       "      <td>0.83</td>\n",
       "    </tr>\n",
       "    <tr>\n",
       "      <th>4</th>\n",
       "      <td>2015</td>\n",
       "      <td>NonResidential</td>\n",
       "      <td>Hotel/Senior Care/Housing</td>\n",
       "      <td>98121.0</td>\n",
       "      <td>7</td>\n",
       "      <td>DOWNTOWN</td>\n",
       "      <td>47.613754</td>\n",
       "      <td>-122.340924</td>\n",
       "      <td>1980</td>\n",
       "      <td>1.0</td>\n",
       "      <td>...</td>\n",
       "      <td>Swimming Pool</td>\n",
       "      <td>0.0</td>\n",
       "      <td>67.0</td>\n",
       "      <td>14829099.0</td>\n",
       "      <td>507.70</td>\n",
       "      <td>162.0</td>\n",
       "      <td>76.0</td>\n",
       "      <td>0.59</td>\n",
       "      <td>0.41</td>\n",
       "      <td>0.00</td>\n",
       "    </tr>\n",
       "  </tbody>\n",
       "</table>\n",
       "<p>5 rows × 28 columns</p>\n",
       "</div>"
      ],
      "text/plain": [
       "   DataYear    BuildingType        PrimaryPropertyType  ZipCode  \\\n",
       "0      2015  NonResidential  Hotel/Senior Care/Housing  98101.0   \n",
       "1      2015  NonResidential  Hotel/Senior Care/Housing  98101.0   \n",
       "2      2015  NonResidential  Hotel/Senior Care/Housing  98101.0   \n",
       "3      2015  NonResidential  Hotel/Senior Care/Housing  98101.0   \n",
       "4      2015  NonResidential  Hotel/Senior Care/Housing  98121.0   \n",
       "\n",
       "   CouncilDistrictCode Neighborhood   Latitude   Longitude  YearBuilt  \\\n",
       "0                    7     DOWNTOWN  47.612190 -122.337997       1927   \n",
       "1                    7     DOWNTOWN  47.613106 -122.333358       1996   \n",
       "2                    7     DOWNTOWN  47.613349 -122.337699       1969   \n",
       "3                    7     DOWNTOWN  47.614216 -122.336609       1926   \n",
       "4                    7     DOWNTOWN  47.613754 -122.340924       1980   \n",
       "\n",
       "   NumberofBuildings  ...  ThirdLargestPropertyUseType  \\\n",
       "0                1.0  ...               No information   \n",
       "1                1.0  ...                      Leisure   \n",
       "2                1.0  ...                Swimming Pool   \n",
       "3                1.0  ...               No information   \n",
       "4                1.0  ...                Swimming Pool   \n",
       "\n",
       "   ThirdLargestPropertyUseTypeGFA  ENERGYSTARScore  SiteEnergyUse(kBtu)  \\\n",
       "0                             0.0             65.0            6981428.0   \n",
       "1                          4622.0             51.0            8354235.0   \n",
       "2                             0.0             18.0           73130656.0   \n",
       "3                             0.0              1.0           28229320.0   \n",
       "4                             0.0             67.0           14829099.0   \n",
       "\n",
       "  TotalGHGEmissions  median_SourceEUI(kBtu/sf) median_SiteEUI(kBtu/sf)  \\\n",
       "0            249.43                      162.0                    76.0   \n",
       "1            263.51                      162.0                    76.0   \n",
       "2           2061.48                      162.0                    76.0   \n",
       "3           1936.34                      162.0                    76.0   \n",
       "4            507.70                      162.0                    76.0   \n",
       "\n",
       "   p_NaturalGas p_Electricity  p_SteamUse  \n",
       "0          0.18          0.53        0.29  \n",
       "1          0.53          0.47        0.00  \n",
       "2          0.05          0.68        0.27  \n",
       "3          0.07          0.10        0.83  \n",
       "4          0.59          0.41        0.00  \n",
       "\n",
       "[5 rows x 28 columns]"
      ]
     },
     "execution_count": 3,
     "metadata": {},
     "output_type": "execute_result"
    }
   ],
   "source": [
    "data.head()"
   ]
  },
  {
   "cell_type": "code",
   "execution_count": 4,
   "id": "73ece6ee-bc50-4127-8dea-fcfaf3f04099",
   "metadata": {},
   "outputs": [
    {
     "data": {
      "text/plain": [
       "DataYear                              0\n",
       "p_NaturalGas                          0\n",
       "median_SiteEUI(kBtu/sf)               0\n",
       "median_SourceEUI(kBtu/sf)             0\n",
       "TotalGHGEmissions                     0\n",
       "SiteEnergyUse(kBtu)                   0\n",
       "ThirdLargestPropertyUseTypeGFA        0\n",
       "ThirdLargestPropertyUseType           0\n",
       "SecondLargestPropertyUseTypeGFA       0\n",
       "SecondLargestPropertyUseType          0\n",
       "LargestPropertyUseTypeGFA             0\n",
       "LargestPropertyUseType                0\n",
       "p_Electricity                         0\n",
       "PropertyGFABuilding(s)                0\n",
       "PropertyGFATotal                      0\n",
       "NumberofFloors                        0\n",
       "NumberofBuildings                     0\n",
       "YearBuilt                             0\n",
       "Longitude                             0\n",
       "Latitude                              0\n",
       "Neighborhood                          0\n",
       "CouncilDistrictCode                   0\n",
       "ZipCode                               0\n",
       "PrimaryPropertyType                   0\n",
       "BuildingType                          0\n",
       "PropertyGFAParking                    0\n",
       "p_SteamUse                            0\n",
       "ENERGYSTARScore                    1036\n",
       "dtype: int64"
      ]
     },
     "execution_count": 4,
     "metadata": {},
     "output_type": "execute_result"
    }
   ],
   "source": [
    "(data.isna().sum()).sort_values(ascending=True)"
   ]
  },
  {
   "cell_type": "markdown",
   "id": "0b0ef077-aeb6-4da8-b7ce-576c1597f517",
   "metadata": {},
   "source": [
    "## Model building functionality load/create"
   ]
  },
  {
   "cell_type": "code",
   "execution_count": 5,
   "id": "0a53e9a0-9c2f-42d4-9c46-65fcdd1a13f1",
   "metadata": {},
   "outputs": [
    {
     "name": "stderr",
     "output_type": "stream",
     "text": [
      "/Users/franck/opt/anaconda3/envs/P4_devenv/lib/python3.9/site-packages/xgboost/compat.py:36: FutureWarning: pandas.Int64Index is deprecated and will be removed from pandas in a future version. Use pandas.Index with the appropriate dtype instead.\n",
      "  from pandas import MultiIndex, Int64Index\n"
     ]
    }
   ],
   "source": [
    "from sklearn.model_selection import train_test_split\n",
    "\n",
    "from sklearn.pipeline import make_pipeline\n",
    "\n",
    "from sklearn.compose import make_column_selector\n",
    "from sklearn.compose import make_column_transformer\n",
    "\n",
    "from sklearn.preprocessing import RobustScaler\n",
    "from sklearn.preprocessing import OneHotEncoder\n",
    "from sklearn.preprocessing import PolynomialFeatures\n",
    "\n",
    "from sklearn.metrics import *\n",
    "\n",
    "from sklearn.dummy import DummyRegressor\n",
    "from sklearn.linear_model import LinearRegression\n",
    "from sklearn.linear_model import GammaRegressor\n",
    "from sklearn.linear_model import Ridge\n",
    "from sklearn.linear_model import Lasso\n",
    "from sklearn.linear_model import ElasticNet, SGDRegressor\n",
    "\n",
    "from sklearn.svm import SVR, LinearSVR\n",
    "\n",
    "from sklearn.neighbors import KNeighborsRegressor\n",
    "\n",
    "from sklearn.tree import DecisionTreeRegressor\n",
    "\n",
    "from sklearn.ensemble import RandomForestRegressor\n",
    "from sklearn.ensemble import AdaBoostRegressor\n",
    "from sklearn.ensemble import GradientBoostingRegressor\n",
    "from sklearn.ensemble import BaggingRegressor\n",
    "\n",
    "from xgboost import XGBRegressor\n",
    "\n",
    "from sklearn.model_selection import GridSearchCV\n",
    "from sklearn.model_selection import validation_curve\n",
    "from sklearn.model_selection import learning_curve\n",
    "\n",
    "from sklearn.feature_selection import *"
   ]
  },
  {
   "cell_type": "code",
   "execution_count": 6,
   "id": "007b42c0-1d0a-46d5-996e-c55f04698025",
   "metadata": {},
   "outputs": [],
   "source": [
    "# Validation curve for GridSearchCV\n",
    "def plot_grid_search_validation_curve(grid, param_to_vary,\n",
    "                                      title='Validation Curve', ylim=None,\n",
    "                                      xlim=None, log=None):\n",
    "    \"\"\"Plots train and cross-validation scores from a GridSearchCV instance's\n",
    "    best params while varying one of those params.\"\"\"\n",
    "\n",
    "    df_cv_results = pd.DataFrame(grid.cv_results_)\n",
    "    train_scores_mean = df_cv_results['mean_train_score']\n",
    "    valid_scores_mean = df_cv_results['mean_test_score']\n",
    "    train_scores_std = df_cv_results['std_train_score']\n",
    "    valid_scores_std = df_cv_results['std_test_score']\n",
    "\n",
    "    param_cols = [c for c in df_cv_results.columns if c[:6] == 'param_']\n",
    "    param_ranges = [grid.param_grid[p[6:]] for p in param_cols]\n",
    "    param_ranges_lengths = [len(pr) for pr in param_ranges]\n",
    "\n",
    "    train_scores_mean = np.array(train_scores_mean).\\\n",
    "        reshape(*param_ranges_lengths)\n",
    "    valid_scores_mean = np.array(valid_scores_mean).\\\n",
    "        reshape(*param_ranges_lengths)\n",
    "    train_scores_std = np.array(train_scores_std).\\\n",
    "        reshape(*param_ranges_lengths)\n",
    "    valid_scores_std = np.array(valid_scores_std).\\\n",
    "        reshape(*param_ranges_lengths)\n",
    "\n",
    "    param_to_vary_idx = param_cols.index('param_{}'.format(param_to_vary))\n",
    "\n",
    "    slices = []\n",
    "    for idx, param in enumerate(grid.best_params_):\n",
    "        if (idx == param_to_vary_idx):\n",
    "            slices.append(slice(None))\n",
    "            continue\n",
    "        best_param_val = grid.best_params_[param]\n",
    "        idx_of_best_param = 0\n",
    "        if isinstance(param_ranges[idx], np.ndarray):\n",
    "            idx_of_best_param = param_ranges[idx].tolist().\\\n",
    "                index(best_param_val)\n",
    "        else:\n",
    "            idx_of_best_param = param_ranges[idx].index(best_param_val)\n",
    "        slices.append(idx_of_best_param)\n",
    "\n",
    "    train_scores_mean = train_scores_mean[tuple(slices)]\n",
    "    valid_scores_mean = valid_scores_mean[tuple(slices)]\n",
    "    train_scores_std = train_scores_std[tuple(slices)]\n",
    "    valid_scores_std = valid_scores_std[tuple(slices)]\n",
    "\n",
    "    plt.clf()\n",
    "\n",
    "    plt.title(title)\n",
    "    plt.xlabel(param_to_vary)\n",
    "    plt.ylabel('Score')\n",
    "\n",
    "    if (ylim is None):\n",
    "        plt.ylim(0.0, 1.1)\n",
    "    else:\n",
    "        plt.ylim(*ylim)\n",
    "\n",
    "    if (not (xlim is None)):\n",
    "        plt.xlim(*xlim)\n",
    "\n",
    "    lw = 2\n",
    "\n",
    "    plot_fn = plt.plot\n",
    "    if log:\n",
    "        plot_fn = plt.semilogx\n",
    "\n",
    "    param_range = param_ranges[param_to_vary_idx]\n",
    "    if (not isinstance(param_range[0], np.number)):\n",
    "        param_range = [str(x) for x in param_range]\n",
    "    plot_fn(param_range, train_scores_mean, label='Training score', color='r',\n",
    "            lw=lw)\n",
    "    plt.fill_between(param_range, train_scores_mean - train_scores_std,\n",
    "                     train_scores_mean + train_scores_std, alpha=0.1,\n",
    "                     color='r', lw=lw)\n",
    "    plot_fn(param_range, valid_scores_mean, label='Cross-validation score',\n",
    "            color='b', lw=lw)\n",
    "    plt.fill_between(param_range, valid_scores_mean - valid_scores_std,\n",
    "                     valid_scores_mean + valid_scores_std, alpha=0.1,\n",
    "                     color='b', lw=lw)\n",
    "\n",
    "    plt.legend(loc='lower right')\n",
    "\n",
    "    plt.show()"
   ]
  },
  {
   "cell_type": "markdown",
   "id": "09296c67-0206-45e3-9985-7b7f26a62d5f",
   "metadata": {},
   "source": [
    "# Pre-processing"
   ]
  },
  {
   "cell_type": "code",
   "execution_count": 7,
   "id": "d19cdbfe-eef9-4c5b-8e9e-3df4f8051f5e",
   "metadata": {},
   "outputs": [
    {
     "name": "stdout",
     "output_type": "stream",
     "text": [
      "<class 'pandas.core.frame.DataFrame'>\n",
      "RangeIndex: 3132 entries, 0 to 3131\n",
      "Data columns (total 28 columns):\n",
      " #   Column                           Non-Null Count  Dtype  \n",
      "---  ------                           --------------  -----  \n",
      " 0   DataYear                         3132 non-null   int64  \n",
      " 1   BuildingType                     3132 non-null   object \n",
      " 2   PrimaryPropertyType              3132 non-null   object \n",
      " 3   ZipCode                          3132 non-null   float64\n",
      " 4   CouncilDistrictCode              3132 non-null   int64  \n",
      " 5   Neighborhood                     3132 non-null   object \n",
      " 6   Latitude                         3132 non-null   float64\n",
      " 7   Longitude                        3132 non-null   float64\n",
      " 8   YearBuilt                        3132 non-null   int64  \n",
      " 9   NumberofBuildings                3132 non-null   float64\n",
      " 10  NumberofFloors                   3132 non-null   float64\n",
      " 11  PropertyGFATotal                 3132 non-null   float64\n",
      " 12  PropertyGFAParking               3132 non-null   float64\n",
      " 13  PropertyGFABuilding(s)           3132 non-null   float64\n",
      " 14  LargestPropertyUseType           3132 non-null   object \n",
      " 15  LargestPropertyUseTypeGFA        3132 non-null   float64\n",
      " 16  SecondLargestPropertyUseType     3132 non-null   object \n",
      " 17  SecondLargestPropertyUseTypeGFA  3132 non-null   float64\n",
      " 18  ThirdLargestPropertyUseType      3132 non-null   object \n",
      " 19  ThirdLargestPropertyUseTypeGFA   3132 non-null   float64\n",
      " 20  ENERGYSTARScore                  2096 non-null   float64\n",
      " 21  SiteEnergyUse(kBtu)              3132 non-null   float64\n",
      " 22  TotalGHGEmissions                3132 non-null   float64\n",
      " 23  median_SourceEUI(kBtu/sf)        3132 non-null   float64\n",
      " 24  median_SiteEUI(kBtu/sf)          3132 non-null   float64\n",
      " 25  p_NaturalGas                     3132 non-null   float64\n",
      " 26  p_Electricity                    3132 non-null   float64\n",
      " 27  p_SteamUse                       3132 non-null   float64\n",
      "dtypes: float64(19), int64(3), object(6)\n",
      "memory usage: 685.2+ KB\n"
     ]
    }
   ],
   "source": [
    "# Creation a dataset copy\n",
    "df = data.copy()\n",
    "df.info()"
   ]
  },
  {
   "cell_type": "code",
   "execution_count": 8,
   "id": "cff069ba-b3d6-468f-9fff-8b93d3e70a7e",
   "metadata": {},
   "outputs": [],
   "source": [
    "# Types modification\n",
    "\n",
    "# Drop NaN\n",
    "df.dropna(inplace=True)\n",
    "# df.drop('ENERGYSTARScore', axis = 1, inplace=True)"
   ]
  },
  {
   "cell_type": "code",
   "execution_count": 9,
   "id": "4132955b-f123-44a6-a08c-40c61cf564dd",
   "metadata": {},
   "outputs": [],
   "source": [
    "# Definition of target and features variables\n",
    "\n",
    "targets = ['SiteEnergyUse(kBtu)', 'TotalGHGEmissions']\n",
    "\n",
    "X = df.iloc[:, ~df.columns.isin(targets)]\n",
    "y = df.loc[:, targets]"
   ]
  },
  {
   "cell_type": "code",
   "execution_count": 10,
   "id": "09f0fb2c-dd1e-4bf2-a270-06065193b555",
   "metadata": {},
   "outputs": [
    {
     "data": {
      "text/plain": [
       "(2096, 26)"
      ]
     },
     "execution_count": 10,
     "metadata": {},
     "output_type": "execute_result"
    }
   ],
   "source": [
    "X.shape"
   ]
  },
  {
   "cell_type": "code",
   "execution_count": 11,
   "id": "dc3489ef-559f-4f16-acee-3e2ccdf5f698",
   "metadata": {},
   "outputs": [
    {
     "name": "stdout",
     "output_type": "stream",
     "text": [
      "(1676, 26)\n",
      "(1676, 2)\n"
     ]
    }
   ],
   "source": [
    "# Train, Test split\n",
    "X_train, X_test, y_train_full, y_test_full = train_test_split(X,\n",
    "                                                              y,\n",
    "                                                              test_size=.2,\n",
    "                                                              random_state=5)\n",
    "\n",
    "print(X_train.shape)\n",
    "print(y_train_full.shape)"
   ]
  },
  {
   "cell_type": "code",
   "execution_count": 12,
   "id": "4ab24046-e9c4-43a8-9557-9f8adc40f335",
   "metadata": {},
   "outputs": [],
   "source": [
    "from sklearn.compose import ColumnTransformer\n",
    "from sklearn.preprocessing import *\n",
    "\n",
    "numeric_features = X.select_dtypes(include=np.number).columns\n",
    "scaler = RobustScaler()\n",
    "\n",
    "categorical_features = X.select_dtypes(exclude=np.number).columns\n",
    "encoder = OneHotEncoder(handle_unknown='ignore')\n",
    "\n",
    "preprocessor = make_column_transformer((scaler, numeric_features),\n",
    "                                       (encoder, categorical_features))"
   ]
  },
  {
   "cell_type": "markdown",
   "id": "008dec63-54c0-4413-868e-7ac0815c7bde",
   "metadata": {},
   "source": [
    "Use of RobustScaler -> extreme outliers are present in features"
   ]
  },
  {
   "cell_type": "markdown",
   "id": "eb0bfc6a-0893-425c-94c9-b9be36e86d4f",
   "metadata": {
    "tags": []
   },
   "source": [
    "# Model selection"
   ]
  },
  {
   "cell_type": "markdown",
   "id": "98f8a95d-12ee-48f0-bd6a-baaf9b7064e8",
   "metadata": {
    "tags": []
   },
   "source": [
    "## Naive Model"
   ]
  },
  {
   "cell_type": "markdown",
   "id": "33d1ff49-2340-4742-a9a1-fa385c69cb33",
   "metadata": {},
   "source": [
    "First create a baseline model using naive median predict model "
   ]
  },
  {
   "cell_type": "code",
   "execution_count": 13,
   "id": "a8916309-6d9a-4889-b05f-b2e991fa4416",
   "metadata": {},
   "outputs": [
    {
     "name": "stdout",
     "output_type": "stream",
     "text": [
      "Model Dummy, OneHotEncoder, RobustScaler\n",
      "Prediction of:  SiteEnergyUse(kBtu) \n",
      "\n",
      "MAE : 4971779.385159507\n",
      "RMSE : 137088240540780.92\n",
      "median abs err : 1591250.7009283616\n",
      "RMSLE : 1.3836172453063087\n",
      "R2 :  -0.025308204097523657 \n",
      "\n"
     ]
    },
    {
     "data": {
      "image/png": "[encoded data removed]",
      "text/plain": [
       "<Figure size 432x288 with 1 Axes>"
      ]
     },
     "metadata": {
      "needs_background": "light"
     },
     "output_type": "display_data"
    },
    {
     "name": "stdout",
     "output_type": "stream",
     "text": [
      "--------------------------------------------------\n",
      "Model Dummy, OneHotEncoder, RobustScaler\n",
      "Prediction of:  TotalGHGEmissions \n",
      "\n",
      "MAE : 97.96600000000001\n",
      "RMSE : 83255.22085000173\n",
      "median abs err : 35.785000000000004\n",
      "RMSLE : 1.6273825900586727\n",
      "R2 :  -0.0003434549221106309 \n",
      "\n"
     ]
    },
    {
     "data": {
      "image/png": "[encoded data removed]",
      "text/plain": [
       "<Figure size 432x288 with 1 Axes>"
      ]
     },
     "metadata": {
      "needs_background": "light"
     },
     "output_type": "display_data"
    },
    {
     "name": "stdout",
     "output_type": "stream",
     "text": [
      "--------------------------------------------------\n"
     ]
    }
   ],
   "source": [
    "# dummyRegressor\n",
    "\n",
    "for target in targets:\n",
    "\n",
    "    dummy = make_pipeline(preprocessor,\n",
    "                          DummyRegressor(strategy='median'))\n",
    "    y_train = y_train_full[target]\n",
    "    y_test = y_test_full[target]\n",
    "    dummy.fit(X_train, np.ravel(np.log(y_train)))\n",
    "    y_pred = np.exp(dummy.predict(X_test))\n",
    "\n",
    "    # Model scoring\n",
    "    print('Model Dummy, OneHotEncoder, RobustScaler')\n",
    "    print('Prediction of: ', target, '\\n')\n",
    "\n",
    "    print('MAE :', mean_absolute_error(y_pred, y_test))\n",
    "    print('RMSE :', mean_squared_error(y_pred, y_test))\n",
    "    print('median abs err :', median_absolute_error(y_pred, y_test))\n",
    "    print('RMSLE :', mean_squared_log_error(y_pred, y_test))\n",
    "    print('R2 : ', dummy.score(X_test, np.log(y_test)), '\\n')\n",
    "\n",
    "    err_hist = np.abs(y_test - y_pred)\n",
    "    plt.hist(err_hist, bins=50)\n",
    "    plt.show()\n",
    "\n",
    "    print('-'*50)"
   ]
  },
  {
   "cell_type": "markdown",
   "id": "dd4f996c-9323-47c4-bbad-6a65bf55904e",
   "metadata": {},
   "source": [
    "## Models evaluation"
   ]
  },
  {
   "cell_type": "markdown",
   "id": "2f357a7e-958e-472b-a62b-c0733c83dcfb",
   "metadata": {},
   "source": [
    "Scoring metrics defintion : \n",
    "\n",
    "    r2 : the coefficient of determination, usually denoted as R². It represents the proportion of variance (of y) that has been explained by the independent variables in the model. It provides an indication of goodness of fit and therefore a measure of how well unseen samples are likely to be predicted by the model, through the proportion of explained variance.\n",
    "    As such variance is dataset dependent, R² may not be meaningfully comparable across different datasets. Best possible score is 1.0 and it can be negative (because the model can be arbitrarily worse). A constant model that always predicts the expected value of y, disregarding the input features, would get a R² score of 0.0.\n",
    "    \n",
    "    MAE : mean absolute error - a risk metric corresponding to the expected value of the absolute error loss\n",
    "    \n",
    "    median absolut error : is particularly interesting because it is robust to outliers. The loss is calculated by taking the median of all absolute differences between the target and the prediction.\n",
    "    \n",
    "    RMSE : root mean squared error - a risk metric corresponding to the expected value of the squared (quadratic) error or loss.\n",
    "    \n",
    "    RMSLE : root mean squared logarithmic error - function computes a risk metric corresponding to the expected value of the squared logarithmic (quadratic) error or loss.\n",
    "\n",
    "R2 will be the metric score use to select best model, however a particular attention will be done around other metrics as well as the time need to fit.\n",
    "    "
   ]
  },
  {
   "cell_type": "code",
   "execution_count": 14,
   "id": "1ab88073-9a19-41ab-a104-d1d1e40803a3",
   "metadata": {},
   "outputs": [],
   "source": [
    "# Definition of all algorithm to evaluate\n",
    "\n",
    "algos = {\n",
    "    'LinearRegression' : LinearRegression(),\n",
    "    'Ridge' : Ridge(),\n",
    "    'Lasso' : Lasso(),\n",
    "    'ElasticNet' : ElasticNet(),\n",
    "    'SGDRegressor' : SGDRegressor(), \n",
    "    'LinearSVR' : LinearSVR(),\n",
    "    'SVR' : SVR(), \n",
    "    'KNN' : KNeighborsRegressor(), \n",
    "    'DecisionTree' : DecisionTreeRegressor(),\n",
    "    'RandomForest' : RandomForestRegressor(),\n",
    "    'AdaBoost' : AdaBoostRegressor(),\n",
    "    'Gboost' : GradientBoostingRegressor(),\n",
    "    'XGboost' : XGBRegressor()\n",
    "    }"
   ]
  },
  {
   "cell_type": "code",
   "execution_count": 15,
   "id": "f89edf37-07f7-452c-b0c9-fe25be94047a",
   "metadata": {},
   "outputs": [
    {
     "name": "stdout",
     "output_type": "stream",
     "text": [
      "Algorithm:  LinearRegression\n",
      "Model LinearRegression OneHotEncoder, RobustScaler\n",
      "Prediction of:  SiteEnergyUse(kBtu) \n",
      "\n",
      "MAE : 6361364.456132587\n",
      "RMSE : 163022999801081.75\n",
      "median abs err : 2649942.835000254\n",
      "RMSLE : 122.8078747087803\n",
      "R2_train :  0.7845983994772828\n",
      "R2_test :  0.7293602783374207\n",
      "Execution time in seconds: 0.17958378791809082 \n",
      "\n"
     ]
    },
    {
     "data": {
      "image/png": "[encoded data removed]",
      "text/plain": [
       "<Figure size 432x288 with 1 Axes>"
      ]
     },
     "metadata": {
      "needs_background": "light"
     },
     "output_type": "display_data"
    },
    {
     "name": "stdout",
     "output_type": "stream",
     "text": [
      "--------------------------------------------------\n",
      "Model LinearRegression OneHotEncoder, RobustScaler\n",
      "Prediction of:  TotalGHGEmissions \n",
      "\n",
      "MAE : 97.96600000000001\n",
      "RMSE : 83255.22085000173\n",
      "median abs err : 35.785000000000004\n",
      "RMSLE : 1.6273825900586727\n",
      "R2_train :  0.8217104121278479\n",
      "R2_test :  0.7739142860177631\n",
      "Execution time in seconds: 0.21260619163513184 \n",
      "\n"
     ]
    },
    {
     "data": {
      "image/png": "[encoded data removed]",
      "text/plain": [
       "<Figure size 432x288 with 1 Axes>"
      ]
     },
     "metadata": {
      "needs_background": "light"
     },
     "output_type": "display_data"
    },
    {
     "name": "stdout",
     "output_type": "stream",
     "text": [
      "--------------------------------------------------\n",
      "--------------------------------------------------\n",
      "Algorithm:  Ridge\n",
      "Model Ridge OneHotEncoder, RobustScaler\n",
      "Prediction of:  SiteEnergyUse(kBtu) \n",
      "\n",
      "MAE : 6361364.456132587\n",
      "RMSE : 163022999801081.75\n",
      "median abs err : 2649942.835000254\n",
      "RMSLE : 122.8078747087803\n",
      "R2_train :  0.19155810001686158\n",
      "R2_test :  0.24687111097485215\n",
      "Execution time in seconds: 0.0566258430480957 \n",
      "\n"
     ]
    },
    {
     "data": {
      "image/png": "[encoded data removed]",
      "text/plain": [
       "<Figure size 432x288 with 1 Axes>"
      ]
     },
     "metadata": {
      "needs_background": "light"
     },
     "output_type": "display_data"
    },
    {
     "name": "stdout",
     "output_type": "stream",
     "text": [
      "--------------------------------------------------\n",
      "Model Ridge OneHotEncoder, RobustScaler\n",
      "Prediction of:  TotalGHGEmissions \n",
      "\n",
      "MAE : 97.96600000000001\n",
      "RMSE : 83255.22085000173\n",
      "median abs err : 35.785000000000004\n",
      "RMSLE : 1.6273825900586727\n",
      "R2_train :  0.0892316075192725\n",
      "R2_test :  0.0995825497664965\n",
      "Execution time in seconds: 0.05931901931762695 \n",
      "\n"
     ]
    },
    {
     "data": {
      "image/png": "[encoded data removed]",
      "text/plain": [
       "<Figure size 432x288 with 1 Axes>"
      ]
     },
     "metadata": {
      "needs_background": "light"
     },
     "output_type": "display_data"
    },
    {
     "name": "stdout",
     "output_type": "stream",
     "text": [
      "--------------------------------------------------\n",
      "--------------------------------------------------\n",
      "Algorithm:  Lasso\n",
      "Model Lasso OneHotEncoder, RobustScaler\n",
      "Prediction of:  SiteEnergyUse(kBtu) \n",
      "\n",
      "MAE : 6361364.456132587\n",
      "RMSE : 163022999801081.75\n",
      "median abs err : 2649942.835000254\n",
      "RMSLE : 122.8078747087803\n",
      "R2_train :  0.2747384751635292\n",
      "R2_test :  0.292394045546697\n",
      "Execution time in seconds: 0.07405900955200195 \n",
      "\n"
     ]
    },
    {
     "data": {
      "image/png": "[encoded data removed]",
      "text/plain": [
       "<Figure size 432x288 with 1 Axes>"
      ]
     },
     "metadata": {
      "needs_background": "light"
     },
     "output_type": "display_data"
    },
    {
     "name": "stdout",
     "output_type": "stream",
     "text": [
      "--------------------------------------------------\n",
      "Model Lasso OneHotEncoder, RobustScaler\n",
      "Prediction of:  TotalGHGEmissions \n",
      "\n",
      "MAE : 97.96600000000001\n",
      "RMSE : 83255.22085000173\n",
      "median abs err : 35.785000000000004\n",
      "RMSLE : 1.6273825900586727\n",
      "R2_train :  0.1666316469168455\n",
      "R2_test :  0.1449372340500087\n",
      "Execution time in seconds: 0.14603304862976074 \n",
      "\n"
     ]
    },
    {
     "data": {
      "image/png": "[encoded data removed]",
      "text/plain": [
       "<Figure size 432x288 with 1 Axes>"
      ]
     },
     "metadata": {
      "needs_background": "light"
     },
     "output_type": "display_data"
    },
    {
     "name": "stdout",
     "output_type": "stream",
     "text": [
      "--------------------------------------------------\n",
      "--------------------------------------------------\n",
      "Algorithm:  ElasticNet\n",
      "Model ElasticNet OneHotEncoder, RobustScaler\n",
      "Prediction of:  SiteEnergyUse(kBtu) \n",
      "\n",
      "MAE : 6361364.456132587\n",
      "RMSE : 163022999801081.75\n",
      "median abs err : 2649942.835000254\n",
      "RMSLE : 122.8078747087803\n",
      "R2_train :  0.39061707098745013\n",
      "R2_test :  0.36393938430705464\n",
      "Execution time in seconds: 0.0699009895324707 \n",
      "\n"
     ]
    },
    {
     "data": {
      "image/png": "[encoded data removed]",
      "text/plain": [
       "<Figure size 432x288 with 1 Axes>"
      ]
     },
     "metadata": {
      "needs_background": "light"
     },
     "output_type": "display_data"
    },
    {
     "name": "stdout",
     "output_type": "stream",
     "text": [
      "--------------------------------------------------\n",
      "Model ElasticNet OneHotEncoder, RobustScaler\n",
      "Prediction of:  TotalGHGEmissions \n",
      "\n",
      "MAE : 97.96600000000001\n",
      "RMSE : 83255.22085000173\n",
      "median abs err : 35.785000000000004\n",
      "RMSLE : 1.6273825900586727\n",
      "R2_train :  0.25496672821188393\n",
      "R2_test :  0.2029863334902542\n",
      "Execution time in seconds: 0.1008918285369873 \n",
      "\n"
     ]
    },
    {
     "data": {
      "image/png": "[encoded data removed]",
      "text/plain": [
       "<Figure size 432x288 with 1 Axes>"
      ]
     },
     "metadata": {
      "needs_background": "light"
     },
     "output_type": "display_data"
    },
    {
     "name": "stdout",
     "output_type": "stream",
     "text": [
      "--------------------------------------------------\n",
      "--------------------------------------------------\n",
      "Algorithm:  SGDRegressor\n",
      "Model SGDRegressor OneHotEncoder, RobustScaler\n",
      "Prediction of:  SiteEnergyUse(kBtu) \n",
      "\n",
      "MAE : 6361364.456132587\n",
      "RMSE : 163022999801081.75\n",
      "median abs err : 2649942.835000254\n",
      "RMSLE : 122.8078747087803\n",
      "R2_train :  -3.4019173577899116e+36\n",
      "R2_test :  -4.2213150386304863e+36\n",
      "Execution time in seconds: 0.07447695732116699 \n",
      "\n"
     ]
    },
    {
     "data": {
      "image/png": "[encoded data removed]",
      "text/plain": [
       "<Figure size 432x288 with 1 Axes>"
      ]
     },
     "metadata": {
      "needs_background": "light"
     },
     "output_type": "display_data"
    },
    {
     "name": "stdout",
     "output_type": "stream",
     "text": [
      "--------------------------------------------------\n",
      "Model SGDRegressor OneHotEncoder, RobustScaler\n",
      "Prediction of:  TotalGHGEmissions \n",
      "\n",
      "MAE : 97.96600000000001\n",
      "RMSE : 83255.22085000173\n",
      "median abs err : 35.785000000000004\n",
      "RMSLE : 1.6273825900586727\n",
      "R2_train :  -6.759085203567222e+36\n",
      "R2_test :  -8.744357278417347e+36\n",
      "Execution time in seconds: 0.09084510803222656 \n",
      "\n"
     ]
    },
    {
     "data": {
      "image/png": "[encoded data removed]",
      "text/plain": [
       "<Figure size 432x288 with 1 Axes>"
      ]
     },
     "metadata": {
      "needs_background": "light"
     },
     "output_type": "display_data"
    },
    {
     "name": "stdout",
     "output_type": "stream",
     "text": [
      "--------------------------------------------------\n",
      "--------------------------------------------------\n",
      "Algorithm:  LinearSVR\n",
      "Model LinearSVR OneHotEncoder, RobustScaler\n",
      "Prediction of:  SiteEnergyUse(kBtu) \n",
      "\n",
      "MAE : 6361364.456132587\n",
      "RMSE : 163022999801081.75\n",
      "median abs err : 2649942.835000254\n",
      "RMSLE : 122.8078747087803\n",
      "R2_train :  -0.26091612237841666\n",
      "R2_test :  -0.7175946049136968\n",
      "Execution time in seconds: 0.18666601181030273 \n",
      "\n"
     ]
    },
    {
     "name": "stderr",
     "output_type": "stream",
     "text": [
      "/Users/franck/opt/anaconda3/envs/P4_devenv/lib/python3.9/site-packages/sklearn/svm/_base.py:1206: ConvergenceWarning: Liblinear failed to converge, increase the number of iterations.\n",
      "  warnings.warn(\n"
     ]
    },
    {
     "data": {
      "image/png": "[encoded data removed]",
      "text/plain": [
       "<Figure size 432x288 with 1 Axes>"
      ]
     },
     "metadata": {
      "needs_background": "light"
     },
     "output_type": "display_data"
    },
    {
     "name": "stdout",
     "output_type": "stream",
     "text": [
      "--------------------------------------------------\n"
     ]
    },
    {
     "name": "stderr",
     "output_type": "stream",
     "text": [
      "/Users/franck/opt/anaconda3/envs/P4_devenv/lib/python3.9/site-packages/sklearn/svm/_base.py:1206: ConvergenceWarning: Liblinear failed to converge, increase the number of iterations.\n",
      "  warnings.warn(\n"
     ]
    },
    {
     "name": "stdout",
     "output_type": "stream",
     "text": [
      "Model LinearSVR OneHotEncoder, RobustScaler\n",
      "Prediction of:  TotalGHGEmissions \n",
      "\n",
      "MAE : 97.96600000000001\n",
      "RMSE : 83255.22085000173\n",
      "median abs err : 35.785000000000004\n",
      "RMSLE : 1.6273825900586727\n",
      "R2_train :  -22.937797858667544\n",
      "R2_test :  -59.51516307837749\n",
      "Execution time in seconds: 0.2681918144226074 \n",
      "\n"
     ]
    },
    {
     "data": {
      "image/png": "[encoded data removed]",
      "text/plain": [
       "<Figure size 432x288 with 1 Axes>"
      ]
     },
     "metadata": {
      "needs_background": "light"
     },
     "output_type": "display_data"
    },
    {
     "name": "stdout",
     "output_type": "stream",
     "text": [
      "--------------------------------------------------\n",
      "--------------------------------------------------\n",
      "Algorithm:  SVR\n",
      "Model SVR OneHotEncoder, RobustScaler\n",
      "Prediction of:  SiteEnergyUse(kBtu) \n",
      "\n",
      "MAE : 6361364.456132587\n",
      "RMSE : 163022999801081.75\n",
      "median abs err : 2649942.835000254\n",
      "RMSLE : 122.8078747087803\n",
      "R2_train :  0.27924873222614943\n",
      "R2_test :  0.34228596268285594\n",
      "Execution time in seconds: 0.6906228065490723 \n",
      "\n"
     ]
    },
    {
     "data": {
      "image/png": "[encoded data removed]",
      "text/plain": [
       "<Figure size 432x288 with 1 Axes>"
      ]
     },
     "metadata": {
      "needs_background": "light"
     },
     "output_type": "display_data"
    },
    {
     "name": "stdout",
     "output_type": "stream",
     "text": [
      "--------------------------------------------------\n",
      "Model SVR OneHotEncoder, RobustScaler\n",
      "Prediction of:  TotalGHGEmissions \n",
      "\n",
      "MAE : 97.96600000000001\n",
      "RMSE : 83255.22085000173\n",
      "median abs err : 35.785000000000004\n",
      "RMSLE : 1.6273825900586727\n",
      "R2_train :  0.13359975468164254\n",
      "R2_test :  0.16125297294306307\n",
      "Execution time in seconds: 0.5665979385375977 \n",
      "\n"
     ]
    },
    {
     "data": {
      "image/png": "[encoded data removed]",
      "text/plain": [
       "<Figure size 432x288 with 1 Axes>"
      ]
     },
     "metadata": {
      "needs_background": "light"
     },
     "output_type": "display_data"
    },
    {
     "name": "stdout",
     "output_type": "stream",
     "text": [
      "--------------------------------------------------\n",
      "--------------------------------------------------\n",
      "Algorithm:  KNN\n",
      "Model KNN OneHotEncoder, RobustScaler\n",
      "Prediction of:  SiteEnergyUse(kBtu) \n",
      "\n",
      "MAE : 6361364.456132587\n",
      "RMSE : 163022999801081.75\n",
      "median abs err : 2649942.835000254\n",
      "RMSLE : 122.8078747087803\n",
      "R2_train :  0.8315438295596138\n",
      "R2_test :  0.6925842172745287\n",
      "Execution time in seconds: 0.2772500514984131 \n",
      "\n"
     ]
    },
    {
     "data": {
      "image/png": "[encoded data removed]",
      "text/plain": [
       "<Figure size 432x288 with 1 Axes>"
      ]
     },
     "metadata": {
      "needs_background": "light"
     },
     "output_type": "display_data"
    },
    {
     "name": "stdout",
     "output_type": "stream",
     "text": [
      "--------------------------------------------------\n",
      "Model KNN OneHotEncoder, RobustScaler\n",
      "Prediction of:  TotalGHGEmissions \n",
      "\n",
      "MAE : 97.96600000000001\n",
      "RMSE : 83255.22085000173\n",
      "median abs err : 35.785000000000004\n",
      "RMSLE : 1.6273825900586727\n",
      "R2_train :  0.7692777542035816\n",
      "R2_test :  0.6108197763104117\n",
      "Execution time in seconds: 0.2834208011627197 \n",
      "\n"
     ]
    },
    {
     "data": {
      "image/png": "[encoded data removed]",
      "text/plain": [
       "<Figure size 432x288 with 1 Axes>"
      ]
     },
     "metadata": {
      "needs_background": "light"
     },
     "output_type": "display_data"
    },
    {
     "name": "stdout",
     "output_type": "stream",
     "text": [
      "--------------------------------------------------\n",
      "--------------------------------------------------\n",
      "Algorithm:  DecisionTree\n",
      "Model DecisionTree OneHotEncoder, RobustScaler\n",
      "Prediction of:  SiteEnergyUse(kBtu) \n",
      "\n",
      "MAE : 6361364.456132587\n",
      "RMSE : 163022999801081.75\n",
      "median abs err : 2649942.835000254\n",
      "RMSLE : 122.8078747087803\n",
      "R2_train :  1.0\n",
      "R2_test :  0.8435041908265706\n",
      "Execution time in seconds: 0.13097906112670898 \n",
      "\n"
     ]
    },
    {
     "data": {
      "image/png": "[encoded data removed]",
      "text/plain": [
       "<Figure size 432x288 with 1 Axes>"
      ]
     },
     "metadata": {
      "needs_background": "light"
     },
     "output_type": "display_data"
    },
    {
     "name": "stdout",
     "output_type": "stream",
     "text": [
      "--------------------------------------------------\n",
      "Model DecisionTree OneHotEncoder, RobustScaler\n",
      "Prediction of:  TotalGHGEmissions \n",
      "\n",
      "MAE : 97.96600000000001\n",
      "RMSE : 83255.22085000173\n",
      "median abs err : 35.785000000000004\n",
      "RMSLE : 1.6273825900586727\n",
      "R2_train :  1.0\n",
      "R2_test :  0.8844191552639629\n",
      "Execution time in seconds: 0.11841797828674316 \n",
      "\n"
     ]
    },
    {
     "data": {
      "image/png": "[encoded data removed]",
      "text/plain": [
       "<Figure size 432x288 with 1 Axes>"
      ]
     },
     "metadata": {
      "needs_background": "light"
     },
     "output_type": "display_data"
    },
    {
     "name": "stdout",
     "output_type": "stream",
     "text": [
      "--------------------------------------------------\n",
      "--------------------------------------------------\n",
      "Algorithm:  RandomForest\n",
      "Model RandomForest OneHotEncoder, RobustScaler\n",
      "Prediction of:  SiteEnergyUse(kBtu) \n",
      "\n",
      "MAE : 6361364.456132587\n",
      "RMSE : 163022999801081.75\n",
      "median abs err : 2649942.835000254\n",
      "RMSLE : 122.8078747087803\n",
      "R2_train :  0.9887063046253954\n",
      "R2_test :  0.9226671296814012\n",
      "Execution time in seconds: 7.024400949478149 \n",
      "\n"
     ]
    },
    {
     "data": {
      "image/png": "[encoded data removed]",
      "text/plain": [
       "<Figure size 432x288 with 1 Axes>"
      ]
     },
     "metadata": {
      "needs_background": "light"
     },
     "output_type": "display_data"
    },
    {
     "name": "stdout",
     "output_type": "stream",
     "text": [
      "--------------------------------------------------\n",
      "Model RandomForest OneHotEncoder, RobustScaler\n",
      "Prediction of:  TotalGHGEmissions \n",
      "\n",
      "MAE : 97.96600000000001\n",
      "RMSE : 83255.22085000173\n",
      "median abs err : 35.785000000000004\n",
      "RMSLE : 1.6273825900586727\n",
      "R2_train :  0.9893210388535141\n",
      "R2_test :  0.9371081685247691\n",
      "Execution time in seconds: 5.926464080810547 \n",
      "\n"
     ]
    },
    {
     "data": {
      "image/png": "[encoded data removed]",
      "text/plain": [
       "<Figure size 432x288 with 1 Axes>"
      ]
     },
     "metadata": {
      "needs_background": "light"
     },
     "output_type": "display_data"
    },
    {
     "name": "stdout",
     "output_type": "stream",
     "text": [
      "--------------------------------------------------\n",
      "--------------------------------------------------\n",
      "Algorithm:  AdaBoost\n",
      "Model AdaBoost OneHotEncoder, RobustScaler\n",
      "Prediction of:  SiteEnergyUse(kBtu) \n",
      "\n",
      "MAE : 6361364.456132587\n",
      "RMSE : 163022999801081.75\n",
      "median abs err : 2649942.835000254\n",
      "RMSLE : 122.8078747087803\n",
      "R2_train :  0.8527133501651237\n",
      "R2_test :  0.7966632028096776\n",
      "Execution time in seconds: 1.7781329154968262 \n",
      "\n"
     ]
    },
    {
     "data": {
      "image/png": "[encoded data removed]",
      "text/plain": [
       "<Figure size 432x288 with 1 Axes>"
      ]
     },
     "metadata": {
      "needs_background": "light"
     },
     "output_type": "display_data"
    },
    {
     "name": "stdout",
     "output_type": "stream",
     "text": [
      "--------------------------------------------------\n",
      "Model AdaBoost OneHotEncoder, RobustScaler\n",
      "Prediction of:  TotalGHGEmissions \n",
      "\n",
      "MAE : 97.96600000000001\n",
      "RMSE : 83255.22085000173\n",
      "median abs err : 35.785000000000004\n",
      "RMSLE : 1.6273825900586727\n",
      "R2_train :  0.8518520273340568\n",
      "R2_test :  0.8174342581661325\n",
      "Execution time in seconds: 1.1755409240722656 \n",
      "\n"
     ]
    },
    {
     "data": {
      "image/png": "[encoded data removed]",
      "text/plain": [
       "<Figure size 432x288 with 1 Axes>"
      ]
     },
     "metadata": {
      "needs_background": "light"
     },
     "output_type": "display_data"
    },
    {
     "name": "stdout",
     "output_type": "stream",
     "text": [
      "--------------------------------------------------\n",
      "--------------------------------------------------\n",
      "Algorithm:  Gboost\n",
      "Model Gboost OneHotEncoder, RobustScaler\n",
      "Prediction of:  SiteEnergyUse(kBtu) \n",
      "\n",
      "MAE : 6361364.456132587\n",
      "RMSE : 163022999801081.75\n",
      "median abs err : 2649942.835000254\n",
      "RMSLE : 122.8078747087803\n",
      "R2_train :  0.9494216803891916\n",
      "R2_test :  0.9052716338938412\n",
      "Execution time in seconds: 0.7849888801574707 \n",
      "\n"
     ]
    },
    {
     "data": {
      "image/png": "[encoded data removed]",
      "text/plain": [
       "<Figure size 432x288 with 1 Axes>"
      ]
     },
     "metadata": {
      "needs_background": "light"
     },
     "output_type": "display_data"
    },
    {
     "name": "stdout",
     "output_type": "stream",
     "text": [
      "--------------------------------------------------\n",
      "Model Gboost OneHotEncoder, RobustScaler\n",
      "Prediction of:  TotalGHGEmissions \n",
      "\n",
      "MAE : 97.96600000000001\n",
      "RMSE : 83255.22085000173\n",
      "median abs err : 35.785000000000004\n",
      "RMSLE : 1.6273825900586727\n",
      "R2_train :  0.9571458553224859\n",
      "R2_test :  0.9209448644717558\n",
      "Execution time in seconds: 0.6353967189788818 \n",
      "\n"
     ]
    },
    {
     "data": {
      "image/png": "[encoded data removed]",
      "text/plain": [
       "<Figure size 432x288 with 1 Axes>"
      ]
     },
     "metadata": {
      "needs_background": "light"
     },
     "output_type": "display_data"
    }
   ],
   "source": [
    "# Loop on all algorithm\n",
    "results = []\n",
    "for algo_name, algo in algos.items():\n",
    "    print('Algorithm: ', algo_name)\n",
    "    for target in targets:\n",
    "        startTime = time.time()\n",
    "        model = make_pipeline(preprocessor,\n",
    "                              algo)\n",
    "        y_train = y_train_full[target]\n",
    "        y_test = y_test_full[target]\n",
    "        model.fit(X_train, np.ravel(np.log(y_train)))\n",
    "        y_pred = np.exp(dummy.predict(X_test))\n",
    "\n",
    "        # Model scoring\n",
    "        print('Model', algo_name, 'OneHotEncoder, RobustScaler')\n",
    "        print('Prediction of: ', target, '\\n')\n",
    "\n",
    "        mae = mean_absolute_error(y_pred, y_test)\n",
    "        print('MAE :', mae)\n",
    "        rmse = mean_squared_error(y_pred, y_test)\n",
    "        print('RMSE :', rmse)\n",
    "        med_abs_err = median_absolute_error(y_pred, y_test)\n",
    "        print('median abs err :', med_abs_err)\n",
    "        rmsle = mean_squared_log_error(y_pred, y_test)\n",
    "        print('RMSLE :', rmsle)\n",
    "        R2_train = model.score(X_train, np.log(y_train))\n",
    "        print('R2_train : ', R2_train)\n",
    "        R2_test = model.score(X_test, np.log(y_test))\n",
    "        print('R2_test : ', R2_test)\n",
    "        executionTime = (time.time() - startTime)\n",
    "        print('Execution time in seconds: ' + str(executionTime), '\\n')\n",
    "\n",
    "        err_hist = np.abs(y_test - y_pred)\n",
    "        plt.hist(np.log(err_hist), bins=50)\n",
    "        plt.show()\n",
    "        results.append([algo_name,\n",
    "                        target,\n",
    "                        mae,\n",
    "                        rmse,\n",
    "                        med_abs_err,\n",
    "                        rmsle,\n",
    "                        R2_train,\n",
    "                        R2_test,\n",
    "                        executionTime])\n",
    "        print('-'*50)\n",
    "    print('-'*50)"
   ]
  },
  {
   "cell_type": "code",
   "execution_count": null,
   "id": "8fbaeb45-4e98-42a2-9ff6-b7628652f693",
   "metadata": {},
   "outputs": [
    {
     "data": {
      "text/html": [
       "<div>\n",
       "<style scoped>\n",
       "    .dataframe tbody tr th:only-of-type {\n",
       "        vertical-align: middle;\n",
       "    }\n",
       "\n",
       "    .dataframe tbody tr th {\n",
       "        vertical-align: top;\n",
       "    }\n",
       "\n",
       "    .dataframe thead th {\n",
       "        text-align: right;\n",
       "    }\n",
       "</style>\n",
       "<table border=\"1\" class=\"dataframe\">\n",
       "  <thead>\n",
       "    <tr style=\"text-align: right;\">\n",
       "      <th></th>\n",
       "      <th>algorithm</th>\n",
       "      <th>target</th>\n",
       "      <th>MAE</th>\n",
       "      <th>RMSE</th>\n",
       "      <th>median abs err</th>\n",
       "      <th>RMSLE</th>\n",
       "      <th>predict score train</th>\n",
       "      <th>predict score test</th>\n",
       "      <th>Time to execute</th>\n",
       "    </tr>\n",
       "  </thead>\n",
       "  <tbody>\n",
       "    <tr>\n",
       "      <th>25</th>\n",
       "      <td>XGboost</td>\n",
       "      <td>TotalGHGEmissions</td>\n",
       "      <td>9.796600e+01</td>\n",
       "      <td>8.325522e+04</td>\n",
       "      <td>35.785</td>\n",
       "      <td>1.627383</td>\n",
       "      <td>9.989603e-01</td>\n",
       "      <td>9.530999e-01</td>\n",
       "      <td>0.652628</td>\n",
       "    </tr>\n",
       "    <tr>\n",
       "      <th>19</th>\n",
       "      <td>RandomForest</td>\n",
       "      <td>TotalGHGEmissions</td>\n",
       "      <td>9.796600e+01</td>\n",
       "      <td>8.325522e+04</td>\n",
       "      <td>35.785</td>\n",
       "      <td>1.627383</td>\n",
       "      <td>9.893116e-01</td>\n",
       "      <td>9.367385e-01</td>\n",
       "      <td>5.411948</td>\n",
       "    </tr>\n",
       "    <tr>\n",
       "      <th>23</th>\n",
       "      <td>Gboost</td>\n",
       "      <td>TotalGHGEmissions</td>\n",
       "      <td>9.796600e+01</td>\n",
       "      <td>8.325522e+04</td>\n",
       "      <td>35.785</td>\n",
       "      <td>1.627383</td>\n",
       "      <td>9.571459e-01</td>\n",
       "      <td>9.208540e-01</td>\n",
       "      <td>1.140119</td>\n",
       "    </tr>\n",
       "    <tr>\n",
       "      <th>17</th>\n",
       "      <td>DecisionTree</td>\n",
       "      <td>TotalGHGEmissions</td>\n",
       "      <td>9.796600e+01</td>\n",
       "      <td>8.325522e+04</td>\n",
       "      <td>35.785</td>\n",
       "      <td>1.627383</td>\n",
       "      <td>1.000000e+00</td>\n",
       "      <td>8.790202e-01</td>\n",
       "      <td>0.156976</td>\n",
       "    </tr>\n",
       "    <tr>\n",
       "      <th>21</th>\n",
       "      <td>AdaBoost</td>\n",
       "      <td>TotalGHGEmissions</td>\n",
       "      <td>9.796600e+01</td>\n",
       "      <td>8.325522e+04</td>\n",
       "      <td>35.785</td>\n",
       "      <td>1.627383</td>\n",
       "      <td>8.455420e-01</td>\n",
       "      <td>8.154877e-01</td>\n",
       "      <td>0.417876</td>\n",
       "    </tr>\n",
       "    <tr>\n",
       "      <th>1</th>\n",
       "      <td>LinearRegression</td>\n",
       "      <td>TotalGHGEmissions</td>\n",
       "      <td>9.796600e+01</td>\n",
       "      <td>8.325522e+04</td>\n",
       "      <td>35.785</td>\n",
       "      <td>1.627383</td>\n",
       "      <td>8.217104e-01</td>\n",
       "      <td>7.739143e-01</td>\n",
       "      <td>0.128181</td>\n",
       "    </tr>\n",
       "    <tr>\n",
       "      <th>15</th>\n",
       "      <td>KNN</td>\n",
       "      <td>TotalGHGEmissions</td>\n",
       "      <td>9.796600e+01</td>\n",
       "      <td>8.325522e+04</td>\n",
       "      <td>35.785</td>\n",
       "      <td>1.627383</td>\n",
       "      <td>7.692778e-01</td>\n",
       "      <td>6.108198e-01</td>\n",
       "      <td>0.365204</td>\n",
       "    </tr>\n",
       "    <tr>\n",
       "      <th>7</th>\n",
       "      <td>ElasticNet</td>\n",
       "      <td>TotalGHGEmissions</td>\n",
       "      <td>9.796600e+01</td>\n",
       "      <td>8.325522e+04</td>\n",
       "      <td>35.785</td>\n",
       "      <td>1.627383</td>\n",
       "      <td>2.549667e-01</td>\n",
       "      <td>2.029863e-01</td>\n",
       "      <td>0.088523</td>\n",
       "    </tr>\n",
       "    <tr>\n",
       "      <th>13</th>\n",
       "      <td>SVR</td>\n",
       "      <td>TotalGHGEmissions</td>\n",
       "      <td>9.796600e+01</td>\n",
       "      <td>8.325522e+04</td>\n",
       "      <td>35.785</td>\n",
       "      <td>1.627383</td>\n",
       "      <td>1.335998e-01</td>\n",
       "      <td>1.612530e-01</td>\n",
       "      <td>0.697611</td>\n",
       "    </tr>\n",
       "    <tr>\n",
       "      <th>5</th>\n",
       "      <td>Lasso</td>\n",
       "      <td>TotalGHGEmissions</td>\n",
       "      <td>9.796600e+01</td>\n",
       "      <td>8.325522e+04</td>\n",
       "      <td>35.785</td>\n",
       "      <td>1.627383</td>\n",
       "      <td>1.666316e-01</td>\n",
       "      <td>1.449372e-01</td>\n",
       "      <td>0.130452</td>\n",
       "    </tr>\n",
       "    <tr>\n",
       "      <th>3</th>\n",
       "      <td>Ridge</td>\n",
       "      <td>TotalGHGEmissions</td>\n",
       "      <td>9.796600e+01</td>\n",
       "      <td>8.325522e+04</td>\n",
       "      <td>35.785</td>\n",
       "      <td>1.627383</td>\n",
       "      <td>8.923161e-02</td>\n",
       "      <td>9.958255e-02</td>\n",
       "      <td>0.103493</td>\n",
       "    </tr>\n",
       "    <tr>\n",
       "      <th>11</th>\n",
       "      <td>LinearSVR</td>\n",
       "      <td>TotalGHGEmissions</td>\n",
       "      <td>9.796600e+01</td>\n",
       "      <td>8.325522e+04</td>\n",
       "      <td>35.785</td>\n",
       "      <td>1.627383</td>\n",
       "      <td>-1.331795e+00</td>\n",
       "      <td>-2.330676e+00</td>\n",
       "      <td>0.424433</td>\n",
       "    </tr>\n",
       "    <tr>\n",
       "      <th>9</th>\n",
       "      <td>SGDRegressor</td>\n",
       "      <td>TotalGHGEmissions</td>\n",
       "      <td>9.796600e+01</td>\n",
       "      <td>8.325522e+04</td>\n",
       "      <td>35.785</td>\n",
       "      <td>1.627383</td>\n",
       "      <td>-4.165357e+36</td>\n",
       "      <td>-4.346051e+36</td>\n",
       "      <td>0.083527</td>\n",
       "    </tr>\n",
       "    <tr>\n",
       "      <th>24</th>\n",
       "      <td>XGboost</td>\n",
       "      <td>SiteEnergyUse(kBtu)</td>\n",
       "      <td>6.361364e+06</td>\n",
       "      <td>1.630230e+14</td>\n",
       "      <td>2649942.835</td>\n",
       "      <td>122.807875</td>\n",
       "      <td>9.983711e-01</td>\n",
       "      <td>9.344303e-01</td>\n",
       "      <td>0.533500</td>\n",
       "    </tr>\n",
       "    <tr>\n",
       "      <th>18</th>\n",
       "      <td>RandomForest</td>\n",
       "      <td>SiteEnergyUse(kBtu)</td>\n",
       "      <td>6.361364e+06</td>\n",
       "      <td>1.630230e+14</td>\n",
       "      <td>2649942.835</td>\n",
       "      <td>122.807875</td>\n",
       "      <td>9.889772e-01</td>\n",
       "      <td>9.254966e-01</td>\n",
       "      <td>5.541734</td>\n",
       "    </tr>\n",
       "    <tr>\n",
       "      <th>22</th>\n",
       "      <td>Gboost</td>\n",
       "      <td>SiteEnergyUse(kBtu)</td>\n",
       "      <td>6.361364e+06</td>\n",
       "      <td>1.630230e+14</td>\n",
       "      <td>2649942.835</td>\n",
       "      <td>122.807875</td>\n",
       "      <td>9.494217e-01</td>\n",
       "      <td>9.058506e-01</td>\n",
       "      <td>0.596671</td>\n",
       "    </tr>\n",
       "    <tr>\n",
       "      <th>16</th>\n",
       "      <td>DecisionTree</td>\n",
       "      <td>SiteEnergyUse(kBtu)</td>\n",
       "      <td>6.361364e+06</td>\n",
       "      <td>1.630230e+14</td>\n",
       "      <td>2649942.835</td>\n",
       "      <td>122.807875</td>\n",
       "      <td>1.000000e+00</td>\n",
       "      <td>8.452877e-01</td>\n",
       "      <td>0.158528</td>\n",
       "    </tr>\n",
       "    <tr>\n",
       "      <th>20</th>\n",
       "      <td>AdaBoost</td>\n",
       "      <td>SiteEnergyUse(kBtu)</td>\n",
       "      <td>6.361364e+06</td>\n",
       "      <td>1.630230e+14</td>\n",
       "      <td>2649942.835</td>\n",
       "      <td>122.807875</td>\n",
       "      <td>8.473193e-01</td>\n",
       "      <td>7.898890e-01</td>\n",
       "      <td>0.414306</td>\n",
       "    </tr>\n",
       "    <tr>\n",
       "      <th>0</th>\n",
       "      <td>LinearRegression</td>\n",
       "      <td>SiteEnergyUse(kBtu)</td>\n",
       "      <td>6.361364e+06</td>\n",
       "      <td>1.630230e+14</td>\n",
       "      <td>2649942.835</td>\n",
       "      <td>122.807875</td>\n",
       "      <td>7.845984e-01</td>\n",
       "      <td>7.293603e-01</td>\n",
       "      <td>0.081682</td>\n",
       "    </tr>\n",
       "    <tr>\n",
       "      <th>14</th>\n",
       "      <td>KNN</td>\n",
       "      <td>SiteEnergyUse(kBtu)</td>\n",
       "      <td>6.361364e+06</td>\n",
       "      <td>1.630230e+14</td>\n",
       "      <td>2649942.835</td>\n",
       "      <td>122.807875</td>\n",
       "      <td>8.315438e-01</td>\n",
       "      <td>6.925842e-01</td>\n",
       "      <td>0.374227</td>\n",
       "    </tr>\n",
       "    <tr>\n",
       "      <th>6</th>\n",
       "      <td>ElasticNet</td>\n",
       "      <td>SiteEnergyUse(kBtu)</td>\n",
       "      <td>6.361364e+06</td>\n",
       "      <td>1.630230e+14</td>\n",
       "      <td>2649942.835</td>\n",
       "      <td>122.807875</td>\n",
       "      <td>3.906171e-01</td>\n",
       "      <td>3.639394e-01</td>\n",
       "      <td>0.097751</td>\n",
       "    </tr>\n",
       "    <tr>\n",
       "      <th>12</th>\n",
       "      <td>SVR</td>\n",
       "      <td>SiteEnergyUse(kBtu)</td>\n",
       "      <td>6.361364e+06</td>\n",
       "      <td>1.630230e+14</td>\n",
       "      <td>2649942.835</td>\n",
       "      <td>122.807875</td>\n",
       "      <td>2.792487e-01</td>\n",
       "      <td>3.422860e-01</td>\n",
       "      <td>0.683717</td>\n",
       "    </tr>\n",
       "    <tr>\n",
       "      <th>4</th>\n",
       "      <td>Lasso</td>\n",
       "      <td>SiteEnergyUse(kBtu)</td>\n",
       "      <td>6.361364e+06</td>\n",
       "      <td>1.630230e+14</td>\n",
       "      <td>2649942.835</td>\n",
       "      <td>122.807875</td>\n",
       "      <td>2.747385e-01</td>\n",
       "      <td>2.923940e-01</td>\n",
       "      <td>0.100257</td>\n",
       "    </tr>\n",
       "    <tr>\n",
       "      <th>2</th>\n",
       "      <td>Ridge</td>\n",
       "      <td>SiteEnergyUse(kBtu)</td>\n",
       "      <td>6.361364e+06</td>\n",
       "      <td>1.630230e+14</td>\n",
       "      <td>2649942.835</td>\n",
       "      <td>122.807875</td>\n",
       "      <td>1.915581e-01</td>\n",
       "      <td>2.468711e-01</td>\n",
       "      <td>0.054112</td>\n",
       "    </tr>\n",
       "    <tr>\n",
       "      <th>10</th>\n",
       "      <td>LinearSVR</td>\n",
       "      <td>SiteEnergyUse(kBtu)</td>\n",
       "      <td>6.361364e+06</td>\n",
       "      <td>1.630230e+14</td>\n",
       "      <td>2649942.835</td>\n",
       "      <td>122.807875</td>\n",
       "      <td>-1.222568e+04</td>\n",
       "      <td>-2.984241e+04</td>\n",
       "      <td>0.334291</td>\n",
       "    </tr>\n",
       "    <tr>\n",
       "      <th>8</th>\n",
       "      <td>SGDRegressor</td>\n",
       "      <td>SiteEnergyUse(kBtu)</td>\n",
       "      <td>6.361364e+06</td>\n",
       "      <td>1.630230e+14</td>\n",
       "      <td>2649942.835</td>\n",
       "      <td>122.807875</td>\n",
       "      <td>-1.433069e+36</td>\n",
       "      <td>-1.460834e+36</td>\n",
       "      <td>0.089868</td>\n",
       "    </tr>\n",
       "  </tbody>\n",
       "</table>\n",
       "</div>"
      ],
      "text/plain": [
       "           algorithm               target           MAE          RMSE  \\\n",
       "25           XGboost    TotalGHGEmissions  9.796600e+01  8.325522e+04   \n",
       "19      RandomForest    TotalGHGEmissions  9.796600e+01  8.325522e+04   \n",
       "23            Gboost    TotalGHGEmissions  9.796600e+01  8.325522e+04   \n",
       "17      DecisionTree    TotalGHGEmissions  9.796600e+01  8.325522e+04   \n",
       "21          AdaBoost    TotalGHGEmissions  9.796600e+01  8.325522e+04   \n",
       "1   LinearRegression    TotalGHGEmissions  9.796600e+01  8.325522e+04   \n",
       "15               KNN    TotalGHGEmissions  9.796600e+01  8.325522e+04   \n",
       "7         ElasticNet    TotalGHGEmissions  9.796600e+01  8.325522e+04   \n",
       "13               SVR    TotalGHGEmissions  9.796600e+01  8.325522e+04   \n",
       "5              Lasso    TotalGHGEmissions  9.796600e+01  8.325522e+04   \n",
       "3              Ridge    TotalGHGEmissions  9.796600e+01  8.325522e+04   \n",
       "11         LinearSVR    TotalGHGEmissions  9.796600e+01  8.325522e+04   \n",
       "9       SGDRegressor    TotalGHGEmissions  9.796600e+01  8.325522e+04   \n",
       "24           XGboost  SiteEnergyUse(kBtu)  6.361364e+06  1.630230e+14   \n",
       "18      RandomForest  SiteEnergyUse(kBtu)  6.361364e+06  1.630230e+14   \n",
       "22            Gboost  SiteEnergyUse(kBtu)  6.361364e+06  1.630230e+14   \n",
       "16      DecisionTree  SiteEnergyUse(kBtu)  6.361364e+06  1.630230e+14   \n",
       "20          AdaBoost  SiteEnergyUse(kBtu)  6.361364e+06  1.630230e+14   \n",
       "0   LinearRegression  SiteEnergyUse(kBtu)  6.361364e+06  1.630230e+14   \n",
       "14               KNN  SiteEnergyUse(kBtu)  6.361364e+06  1.630230e+14   \n",
       "6         ElasticNet  SiteEnergyUse(kBtu)  6.361364e+06  1.630230e+14   \n",
       "12               SVR  SiteEnergyUse(kBtu)  6.361364e+06  1.630230e+14   \n",
       "4              Lasso  SiteEnergyUse(kBtu)  6.361364e+06  1.630230e+14   \n",
       "2              Ridge  SiteEnergyUse(kBtu)  6.361364e+06  1.630230e+14   \n",
       "10         LinearSVR  SiteEnergyUse(kBtu)  6.361364e+06  1.630230e+14   \n",
       "8       SGDRegressor  SiteEnergyUse(kBtu)  6.361364e+06  1.630230e+14   \n",
       "\n",
       "    median abs err       RMSLE  predict score train  predict score test  \\\n",
       "25          35.785    1.627383         9.989603e-01        9.530999e-01   \n",
       "19          35.785    1.627383         9.893116e-01        9.367385e-01   \n",
       "23          35.785    1.627383         9.571459e-01        9.208540e-01   \n",
       "17          35.785    1.627383         1.000000e+00        8.790202e-01   \n",
       "21          35.785    1.627383         8.455420e-01        8.154877e-01   \n",
       "1           35.785    1.627383         8.217104e-01        7.739143e-01   \n",
       "15          35.785    1.627383         7.692778e-01        6.108198e-01   \n",
       "7           35.785    1.627383         2.549667e-01        2.029863e-01   \n",
       "13          35.785    1.627383         1.335998e-01        1.612530e-01   \n",
       "5           35.785    1.627383         1.666316e-01        1.449372e-01   \n",
       "3           35.785    1.627383         8.923161e-02        9.958255e-02   \n",
       "11          35.785    1.627383        -1.331795e+00       -2.330676e+00   \n",
       "9           35.785    1.627383        -4.165357e+36       -4.346051e+36   \n",
       "24     2649942.835  122.807875         9.983711e-01        9.344303e-01   \n",
       "18     2649942.835  122.807875         9.889772e-01        9.254966e-01   \n",
       "22     2649942.835  122.807875         9.494217e-01        9.058506e-01   \n",
       "16     2649942.835  122.807875         1.000000e+00        8.452877e-01   \n",
       "20     2649942.835  122.807875         8.473193e-01        7.898890e-01   \n",
       "0      2649942.835  122.807875         7.845984e-01        7.293603e-01   \n",
       "14     2649942.835  122.807875         8.315438e-01        6.925842e-01   \n",
       "6      2649942.835  122.807875         3.906171e-01        3.639394e-01   \n",
       "12     2649942.835  122.807875         2.792487e-01        3.422860e-01   \n",
       "4      2649942.835  122.807875         2.747385e-01        2.923940e-01   \n",
       "2      2649942.835  122.807875         1.915581e-01        2.468711e-01   \n",
       "10     2649942.835  122.807875        -1.222568e+04       -2.984241e+04   \n",
       "8      2649942.835  122.807875        -1.433069e+36       -1.460834e+36   \n",
       "\n",
       "    Time to execute  \n",
       "25         0.652628  \n",
       "19         5.411948  \n",
       "23         1.140119  \n",
       "17         0.156976  \n",
       "21         0.417876  \n",
       "1          0.128181  \n",
       "15         0.365204  \n",
       "7          0.088523  \n",
       "13         0.697611  \n",
       "5          0.130452  \n",
       "3          0.103493  \n",
       "11         0.424433  \n",
       "9          0.083527  \n",
       "24         0.533500  \n",
       "18         5.541734  \n",
       "22         0.596671  \n",
       "16         0.158528  \n",
       "20         0.414306  \n",
       "0          0.081682  \n",
       "14         0.374227  \n",
       "6          0.097751  \n",
       "12         0.683717  \n",
       "4          0.100257  \n",
       "2          0.054112  \n",
       "10         0.334291  \n",
       "8          0.089868  "
      ]
     },
     "metadata": {},
     "output_type": "display_data"
    }
   ],
   "source": [
    "# Evaluation results display\n",
    "df_results = pd.DataFrame(results, columns=['algorithm',\n",
    "                                            'target',\n",
    "                                            'MAE',\n",
    "                                            'RMSE',\n",
    "                                            'median abs err',\n",
    "                                            'RMSLE',\n",
    "                                            'predict score train',\n",
    "                                            'predict score test',\n",
    "                                            'Time to execute'])\n",
    "display(df_results.sort_values(by=['target', 'predict score test'],\n",
    "                               ascending=False))"
   ]
  },
  {
   "cell_type": "code",
   "execution_count": null,
   "id": "c980e359-3513-41ab-a356-536343b0c1b6",
   "metadata": {},
   "outputs": [
    {
     "data": {
      "image/png": "[encoded data removed]",
      "text/plain": [
       "<Figure size 1440x360 with 1 Axes>"
      ]
     },
     "metadata": {
      "needs_background": "light"
     },
     "output_type": "display_data"
    },
    {
     "data": {
      "image/png": "[encoded data removed]",
      "text/plain": [
       "<Figure size 1440x360 with 1 Axes>"
      ]
     },
     "metadata": {
      "needs_background": "light"
     },
     "output_type": "display_data"
    }
   ],
   "source": [
    "# Evaluation visualisation\n",
    "\n",
    "df_results.drop(df_results[df_results['predict score test'] < 0].index,\n",
    "                inplace=True)\n",
    "\n",
    "fig = plt.figure(figsize=(20, 5))\n",
    "df_results_GHG = df_results.loc[df_results['target']\n",
    "                                == 'TotalGHGEmissions', :].\\\n",
    "                                    sort_values(by=['predict score test'],\n",
    "                                                ascending=False)\n",
    "sns.barplot(data=df_results_GHG,\n",
    "            x='algorithm',\n",
    "            y='predict score test',\n",
    "            palette='rocket')\n",
    "plt.ylabel('R2 score')\n",
    "plt.title('TotalGHGEmissions prediction model rank')\n",
    "plt.show()\n",
    "\n",
    "fig = plt.figure(figsize=(20, 5))\n",
    "df_results_Energy = df_results.loc[df_results['target']\n",
    "                                   == 'SiteEnergyUse(kBtu)', :].\\\n",
    "                                        sort_values(by=['predict score test'],\n",
    "                                                    ascending=False)\n",
    "sns.barplot(data=df_results_Energy,\n",
    "            x='algorithm',\n",
    "            y='predict score test',\n",
    "            palette='rocket')\n",
    "plt.ylabel('R2 score')\n",
    "plt.title('SiteEnergyUse(kBtu) prediction model rank')\n",
    "plt.show()"
   ]
  },
  {
   "cell_type": "markdown",
   "id": "9ee7bd56-29be-473c-925e-ab3115d41112",
   "metadata": {},
   "source": [
    "# Model tuning"
   ]
  },
  {
   "cell_type": "markdown",
   "id": "ed755186-2130-459d-a886-749f1963cfb8",
   "metadata": {
    "tags": []
   },
   "source": [
    "## Random Forest"
   ]
  },
  {
   "cell_type": "code",
   "execution_count": null,
   "id": "1c5ba85b-2c96-4aa4-a329-a9084ec51405",
   "metadata": {},
   "outputs": [],
   "source": [
    "# target init\n",
    "\n",
    "target = 'TotalGHGEmissions'\n",
    "# target = 'SiteEnergyUse(kBtu)'\n",
    "\n",
    "y_train = y_train_full[target]\n",
    "y_test = y_test_full[target]"
   ]
  },
  {
   "cell_type": "markdown",
   "id": "0fb37dd3-c4c2-4608-adfb-ccb82908f634",
   "metadata": {},
   "source": [
    "### Basic model fitting"
   ]
  },
  {
   "cell_type": "code",
   "execution_count": null,
   "id": "404dae8e-954a-4f9d-a4e7-ec057f4207ad",
   "metadata": {},
   "outputs": [
    {
     "name": "stdout",
     "output_type": "stream",
     "text": [
      "Model RandomForrest, OneHotEncoder, RobustScaler\n",
      "Prediction of:  TotalGHGEmissions \n",
      "\n",
      "MAE : 25.975205262004646\n",
      "RMSE : 4777.497475329438\n",
      "median abs err : 7.639618290243089\n",
      "RMSLE : 0.10596289602229231\n",
      "R2_train :  0.9890196175986291\n",
      "R2_test :  0.9352399474157798\n",
      "Execution time in seconds: 5.93601393699646 \n",
      "\n"
     ]
    },
    {
     "data": {
      "image/png": "[encoded data removed]",
      "text/plain": [
       "<Figure size 432x288 with 1 Axes>"
      ]
     },
     "metadata": {
      "needs_background": "light"
     },
     "output_type": "display_data"
    }
   ],
   "source": [
    "# Basic Random forest model\n",
    "startTime = time.time()\n",
    "\n",
    "model = make_pipeline(preprocessor,\n",
    "                      RandomForestRegressor())\n",
    "\n",
    "model.fit(X_train, np.ravel(np.log(y_train)))\n",
    "\n",
    "y_pred = np.exp(model.predict(X_test))\n",
    "\n",
    "# Model scoring\n",
    "print('Model RandomForrest, OneHotEncoder, RobustScaler')\n",
    "print('Prediction of: ', target, '\\n')\n",
    "\n",
    "mae = mean_absolute_error(y_pred, y_test)\n",
    "print('MAE :', mae)\n",
    "rmse = mean_squared_error(y_pred, y_test)\n",
    "print('RMSE :', rmse)\n",
    "med_abs_err = median_absolute_error(y_pred, y_test)\n",
    "print('median abs err :', med_abs_err)\n",
    "rmsle = mean_squared_log_error(y_pred, y_test)\n",
    "print('RMSLE :', rmsle)\n",
    "R2_train = model.score(X_train, np.log(y_train))\n",
    "print('R2_train : ', R2_train)\n",
    "R2_test = model.score(X_test, np.log(y_test))\n",
    "print('R2_test : ', R2_test)\n",
    "executionTime = (time.time() - startTime)\n",
    "print('Execution time in seconds: ' + str(executionTime), '\\n')\n",
    "\n",
    "err_hist = np.abs(y_test - y_pred)\n",
    "plt.hist(np.log(err_hist), bins=50)\n",
    "plt.show()"
   ]
  },
  {
   "cell_type": "markdown",
   "id": "1f9c52c1-327f-4471-874b-9c5751652ea4",
   "metadata": {
    "jp-MarkdownHeadingCollapsed": true,
    "tags": []
   },
   "source": [
    "### Features selection evaluation"
   ]
  },
  {
   "cell_type": "code",
   "execution_count": null,
   "id": "f9360744-c1aa-449f-9de2-516f12fe52aa",
   "metadata": {},
   "outputs": [],
   "source": [
    "# Fit model using each importance as a threshold\n",
    "\n",
    "X_train_scaled = preprocessor.fit_transform(X_train)\n",
    "X_test_scaled = preprocessor.transform(X_test)\n",
    "\n",
    "regressor = model.named_steps['randomforestregressor']\n",
    "\n",
    "thresholds = np.sort(np.unique(regressor.feature_importances_))\n",
    "\n",
    "df_R2_test = list()\n",
    "Nb_features = list()\n",
    "for thresh in thresholds:\n",
    "    # select features using threshold\n",
    "    selection = SelectFromModel(regressor, threshold=thresh, prefit=True)\n",
    "    select_X_train = selection.transform(X_train_scaled)\n",
    "    # train model\n",
    "    selection_model = RandomForestRegressor()\n",
    "    selection_model.fit(select_X_train, np.log(y_train))\n",
    "    # eval model\n",
    "    select_X_test = selection.transform(X_test_scaled)\n",
    "    df_R2_test.append(selection_model.score(select_X_test,\n",
    "                                            np.log(y_test)))\n",
    "    Nb_features.append(select_X_train.shape[1])\n",
    "    print(\"Thresh=%f, n=%d, R2: %f%%\" % (thresh,\n",
    "                                         select_X_train.shape[1],\n",
    "                                         selection_model.score(select_X_test,\n",
    "                                                               np.log(y_test))))"
   ]
  },
  {
   "cell_type": "code",
   "execution_count": null,
   "id": "7691f80c-7dec-41e6-b50c-e6421a5b406f",
   "metadata": {},
   "outputs": [],
   "source": [
    "# Plot performance / features selection thresholds\n",
    "fig, ax = plt.subplots(constrained_layout=True, figsize = (10, 5))\n",
    "ax.plot(Nb_features, df_R2_test)\n",
    "\n",
    "thresholds[df_R2_test.index(np.max(df_R2_test))]"
   ]
  },
  {
   "cell_type": "code",
   "execution_count": null,
   "id": "1bd1d820-35ac-4f6d-a402-2c8979a78e44",
   "metadata": {},
   "outputs": [],
   "source": [
    "# Random Forest grid search CV Features Selection evaluation\n",
    "\n",
    "startTime = time.time()\n",
    "\n",
    "regressor = model.named_steps['randomforestregressor']\n",
    "\n",
    "thresholds = np.sort(np.unique(regressor.feature_importances_))\n",
    "\n",
    "model = make_pipeline(preprocessor, \n",
    "                      SelectFromModel(RandomForestRegressor()),\n",
    "                      XGBRegressor(random_state=13))\n",
    "\n",
    "param_grid =  {'selectfrommodel__threshold' : thresholds}\n",
    "\n",
    "grid = GridSearchCV(model,\n",
    "                    param_grid,\n",
    "                    cv=5,\n",
    "                    scoring='r2', \n",
    "                    return_train_score=True)\n",
    "\n",
    "grid.fit(X_train, np.ravel(np.log(y_train)))\n",
    "y_pred = np.exp(grid.predict(X_test))\n",
    "\n",
    "# Model scoring\n",
    "print('Model RAndom Forest, OneHotEncoder, RobustScaler')\n",
    "print('Prediction of: ', target, '\\n')\n",
    "\n",
    "print(grid.best_params_)\n",
    "\n",
    "mae = mean_absolute_error(y_pred, y_test)\n",
    "print('MAE :', mae)\n",
    "rmse = mean_squared_error(y_pred, y_test)\n",
    "print('RMSE :', rmse)\n",
    "med_abs_err = median_absolute_error(y_pred, y_test)\n",
    "print('median abs err :', med_abs_err)\n",
    "rmsle = mean_squared_log_error(y_pred, y_test)\n",
    "print('RMSLE :', rmsle)\n",
    "R2_train = grid.score(X_train, np.log(y_train))\n",
    "print('R2_train : ', R2_train)\n",
    "R2_test = grid.score(X_test, np.log(y_test))\n",
    "print('R2_test : ', R2_test)\n",
    "executionTime = (time.time() - startTime)\n",
    "print('Execution time in seconds: ' + str(executionTime), '\\n')\n",
    "\n",
    "err_hist = np.abs(y_test - y_pred)\n",
    "plt.hist(np.log(err_hist), bins=50)\n",
    "plt.show()"
   ]
  },
  {
   "cell_type": "markdown",
   "id": "38229f73-fae7-4dba-8edf-a703464bb748",
   "metadata": {},
   "source": [
    "To validate a model we need a scoring function, for example regression coefficient for regressor. The proper way of choosing multiple hyperparameters of an estimator are of course grid search or similar methods that select the hyperparameter with the maximum score on a validation set or multiple validation sets. Note that if we optimized the hyperparameters based on a validation score the validation score is biased and not a good estimate of the generalization any longer. To get a proper estimate of the generalization we have to compute the score on another test set.\n",
    "\n",
    "However, it is sometimes helpful to plot the influence of a single hyperparameter on the training score and the validation score to find out whether the estimator is overfitting or underfitting for some hyperparameter values.\n",
    "\n",
    "If the training score and the validation score are both low, the estimator will be underfitting. If the training score is high and the validation score is low, the estimator is overfitting and otherwise it is working very well. A low training score and a high validation score is usually not possible"
   ]
  },
  {
   "cell_type": "code",
   "execution_count": null,
   "id": "10c73e3c-d11b-46bb-ba79-c1794f43dc13",
   "metadata": {},
   "outputs": [],
   "source": [
    "plot_grid_search_validation_curve(grid, 'selectfrommodel__threshold', log=False)"
   ]
  },
  {
   "cell_type": "markdown",
   "id": "ad7226a8-eb6e-4764-90b5-ba3004e1d852",
   "metadata": {},
   "source": [
    "### Hyperparamter tuning"
   ]
  },
  {
   "cell_type": "code",
   "execution_count": null,
   "id": "f4076fb3-8d7a-455b-865f-c8c5e457fed6",
   "metadata": {},
   "outputs": [
    {
     "name": "stdout",
     "output_type": "stream",
     "text": [
      "Model RandomForrest, OneHotEncoder, RobustScaler\n",
      "Prediction of:  TotalGHGEmissions \n",
      "\n",
      "{'randomforestregressor__max_depth': 100, 'randomforestregressor__max_features': None, 'randomforestregressor__n_estimators': 500}\n",
      "MAE : 24.49336748294239\n",
      "RMSE : 4067.883707501187\n",
      "median abs err : 6.554464696533184\n",
      "RMSLE : 0.10221550126136152\n",
      "R2_train :  0.9899794842235853\n",
      "R2_test :  0.9371611427612789\n",
      "Execution time in seconds: 293.9345510005951 \n",
      "\n"
     ]
    },
    {
     "data": {
      "image/png": "[encoded data removed]",
      "text/plain": [
       "<Figure size 432x288 with 1 Axes>"
      ]
     },
     "metadata": {
      "needs_background": "light"
     },
     "output_type": "display_data"
    }
   ],
   "source": [
    "# Random Forest grid search CV Hyperparamter Tuning\n",
    "\n",
    "startTime = time.time()\n",
    "\n",
    "model = make_pipeline(preprocessor,\n",
    "                      RandomForestRegressor(random_state=13))\n",
    "\n",
    "param_grid =  {'randomforestregressor__n_estimators': [100,500],\n",
    "               'randomforestregressor__max_features': [None, \"sqrt\"],\n",
    "               'randomforestregressor__max_depth' : [100, 200]}\n",
    "\n",
    "grid = GridSearchCV(model,\n",
    "                    param_grid,\n",
    "                    cv=5,\n",
    "                    scoring='r2')\n",
    "\n",
    "grid.fit(X_train, np.ravel(np.log(y_train)))\n",
    "y_pred = np.exp(grid.predict(X_test))\n",
    "\n",
    "# Model scoring\n",
    "print('Model RandomForrest, OneHotEncoder, RobustScaler')\n",
    "print('Prediction of: ', target, '\\n')\n",
    "\n",
    "print(grid.best_params_)\n",
    "\n",
    "mae = mean_absolute_error(y_pred, y_test)\n",
    "print('MAE :', mae)\n",
    "rmse = mean_squared_error(y_pred, y_test)\n",
    "print('RMSE :', rmse)\n",
    "med_abs_err = median_absolute_error(y_pred, y_test)\n",
    "print('median abs err :', med_abs_err)\n",
    "rmsle = mean_squared_log_error(y_pred, y_test)\n",
    "print('RMSLE :', rmsle)\n",
    "R2_train = grid.score(X_train, np.log(y_train))\n",
    "print('R2_train : ', R2_train)\n",
    "R2_test = grid.score(X_test, np.log(y_test))\n",
    "print('R2_test : ', R2_test)\n",
    "executionTime = (time.time() - startTime)\n",
    "print('Execution time in seconds: ' + str(executionTime), '\\n')\n",
    "\n",
    "err_hist = np.abs(y_test - y_pred)\n",
    "plt.hist(np.log(err_hist), bins=50)\n",
    "plt.show()"
   ]
  },
  {
   "cell_type": "markdown",
   "id": "b013ad42-d303-4c13-91cd-ee450c09e161",
   "metadata": {},
   "source": [
    "### Features Importance"
   ]
  },
  {
   "cell_type": "code",
   "execution_count": null,
   "id": "efd4ae33-6d31-44b2-a827-6fe79b3c47b2",
   "metadata": {},
   "outputs": [
    {
     "data": {
      "image/png": "[encoded data removed]",
      "text/plain": [
       "<Figure size 1440x432 with 2 Axes>"
      ]
     },
     "metadata": {
      "needs_background": "light"
     },
     "output_type": "display_data"
    }
   ],
   "source": [
    "# feature importance inspection\n",
    "from sklearn.inspection import permutation_importance\n",
    "\n",
    "# Recover features columns (especially after OneHotEncoder)\n",
    "onehot_columns = list(preprocessor.named_transformers_['onehotencoder'].\\\n",
    "                          get_feature_names_out(input_features=categorical_features))\n",
    "numeric_features_list = list(numeric_features)\n",
    "features_list = np.concatenate((numeric_features_list, onehot_columns))\n",
    "\n",
    "# Train model \n",
    "model = grid.best_estimator_\n",
    "model = model.named_steps['randomforestregressor']\n",
    "\n",
    "\n",
    "X_train_scaled = grid.best_estimator_.\\\n",
    "    named_steps['columntransformer'].fit_transform(X_train)\n",
    "X_test_scaled = grid.best_estimator_.\\\n",
    "    named_steps['columntransformer'].transform(X_test)\n",
    "\n",
    "# select features using threshold\n",
    "#selector = grid.best_estimator_.named_steps['selectfrommodel']\n",
    "#select_X_train = selector.transform(X_train_scaled)\n",
    "#select_X_test = selector.transform(X_test_scaled)\n",
    "\n",
    "# Recover important features from previous fit and then permute importance\n",
    "n_feat = 10  # number of feature to show\n",
    "\n",
    "feature_importance = model.feature_importances_\n",
    "\n",
    "sorted_idx = np.argsort(feature_importance)\n",
    "pos = np.arange(sorted_idx.shape[0]) + .5\n",
    "\n",
    "fig = plt.figure(figsize=(20, 6))\n",
    "\n",
    "plt.subplot(1, 2, 1)\n",
    "plt.barh(pos[-1*n_feat:], feature_importance[sorted_idx]\n",
    "         [-1*n_feat:], align='center')\n",
    "plt.yticks(pos[-1*n_feat:], features_list[sorted_idx][-1*n_feat:])\n",
    "plt.title('Feature Importance (MDI)')\n",
    "\n",
    "result = permutation_importance(model,\n",
    "                                X_test_scaled.toarray(),\n",
    "                                y_test,\n",
    "                                n_repeats=10,\n",
    "                                random_state=42,\n",
    "                                n_jobs=2)\n",
    "sorted_idx = result.importances_mean.argsort()[-1*n_feat:]\n",
    "\n",
    "plt.subplot(1, 2, 2)\n",
    "plt.boxplot(result.importances[sorted_idx].T[-1*n_feat:],\n",
    "            vert=False, labels=features_list[sorted_idx][-1*n_feat:])\n",
    "plt.title(\"Permutation Importance (test set)\")\n",
    "fig.tight_layout(pad=0.8)\n",
    "plt.show()"
   ]
  },
  {
   "cell_type": "markdown",
   "id": "977b30bc-b139-4840-854b-41c006777c3a",
   "metadata": {},
   "source": [
    "The relative rank (i.e. depth) of a feature used as a decision node in a tree can be used to assess the relative importance of that feature with respect to the predictability of the target variable. Features used at the top of the tree contribute to the final prediction decision of a larger fraction of the input samples. The expected fraction of the samples they contribute to can thus be used as an estimate of the relative importance of the features. In scikit-learn, the fraction of samples a feature contributes to is combined with the decrease in impurity from splitting them to create a normalized estimate of the predictive power of that feature.\n",
    "\n",
    "By averaging the estimates of predictive ability over several randomized trees one can reduce the variance of such an estimate and use it for feature selection. This is known as the mean decrease in impurity, or MDI. \n",
    "\n",
    "\n",
    "\n",
    "Warning\n",
    "\n",
    "The impurity-based feature importances computed on tree-based models suffer from two flaws that can lead to misleading conclusions. First they are computed on statistics derived from the training dataset and therefore do not necessarily inform us on which features are most important to make good predictions on held-out dataset. Secondly, they favor high cardinality features, that is features with many unique values. Permutation feature importance is an alternative to impurity-based feature importance that does not suffer from these flaws.\n",
    "\n",
    "Permutation feature importance is a model inspection technique that can be used for any fitted estimator when the data is tabular. This is especially useful for non-linear or opaque estimators. The permutation feature importance is defined to be the decrease in a model score when a single feature value is randomly shuffled. This procedure breaks the relationship between the feature and the target, thus the drop in the model score is indicative of how much the model depends on the feature. This technique benefits from being model agnostic and can be calculated many times with different permutations of the feature."
   ]
  },
  {
   "cell_type": "markdown",
   "id": "cad79dcb-4870-4799-8b62-aef6b52bb104",
   "metadata": {},
   "source": [
    "### Learning Curve"
   ]
  },
  {
   "cell_type": "markdown",
   "id": "53e04525-02fc-402c-99a7-6cd737f8f134",
   "metadata": {},
   "source": [
    "A learning curve shows the validation and training score of an estimator for varying numbers of training samples. It is a tool to find out how much we benefit from adding more training data and whether the estimator suffers more from a variance error or a bias error."
   ]
  },
  {
   "cell_type": "code",
   "execution_count": null,
   "id": "80d9cf09-0f06-4958-9bc1-e69acd39681d",
   "metadata": {},
   "outputs": [
    {
     "data": {
      "text/plain": [
       "<matplotlib.legend.Legend at 0x7fad2948d3a0>"
      ]
     },
     "execution_count": 35,
     "metadata": {},
     "output_type": "execute_result"
    },
    {
     "data": {
      "image/png": "[encoded data removed]",
      "text/plain": [
       "<Figure size 720x360 with 1 Axes>"
      ]
     },
     "metadata": {
      "needs_background": "light"
     },
     "output_type": "display_data"
    }
   ],
   "source": [
    "# Learning Curve\n",
    "forest = grid.best_estimator_\n",
    "\n",
    "N, train_score, val_score = learning_curve(forest,\n",
    "                                           X_train, np.log(y_train), \n",
    "                                           train_sizes=np.linspace(0.1, 1.0, 10),\n",
    "                                           cv=5,\n",
    "                                           scoring='r2')\n",
    "\n",
    "fig = plt.figure(figsize=(10, 5))\n",
    "plt.plot(N, train_score.mean(axis=1), label='train')\n",
    "plt.plot(N, val_score.mean(axiS=1), label='validation')\n",
    "plt.xlabel('train_sizes')\n",
    "plt.legend()"
   ]
  },
  {
   "cell_type": "markdown",
   "id": "2c5d95f5-aa4d-4f32-9465-cbdce85f0ee4",
   "metadata": {
    "tags": []
   },
   "source": [
    "## XGBoost"
   ]
  },
  {
   "cell_type": "markdown",
   "id": "b4608760-3acf-4796-9879-29a381b698a5",
   "metadata": {},
   "source": [
    "### Basic model fitting"
   ]
  },
  {
   "cell_type": "code",
   "execution_count": null,
   "id": "a5db4904-7ff8-4435-b266-b92dafd13276",
   "metadata": {},
   "outputs": [],
   "source": [
    "#target init\n",
    "\n",
    "target = 'TotalGHGEmissions'\n",
    "#target = 'SiteEnergyUse(kBtu)'\n",
    "\n",
    "y_train = y_train_full[target]\n",
    "y_test = y_test_full[target]"
   ]
  },
  {
   "cell_type": "code",
   "execution_count": null,
   "id": "e5ae3a67-12c2-4348-9629-fa7db88a39f2",
   "metadata": {},
   "outputs": [
    {
     "name": "stdout",
     "output_type": "stream",
     "text": [
      "Model XgBoost, OneHotEncoder, RobustScaler\n",
      "Prediction of:  TotalGHGEmissions \n",
      "\n",
      "MAE : 43.015124953469964\n",
      "RMSE : 23163.602782961134\n",
      "median abs err : 9.446241760253912\n",
      "RMSLE : 0.1826190341485829\n",
      "R2_train :  0.9893550109982107\n",
      "R2_test :  0.9072724020659338\n",
      "Execution time in seconds: 1.3351860046386719 \n",
      "\n"
     ]
    },
    {
     "data": {
      "image/png": "[encoded data removed]",
      "text/plain": [
       "<Figure size 432x288 with 1 Axes>"
      ]
     },
     "metadata": {
      "needs_background": "light"
     },
     "output_type": "display_data"
    }
   ],
   "source": [
    "# Basic XGBoost model\n",
    "startTime = time.time()\n",
    "\n",
    "model = make_pipeline(preprocessor,\n",
    "                      XGBRegressor())\n",
    "\n",
    "model.fit(X_train, np.ravel(np.log(y_train)))\n",
    "\n",
    "y_pred = np.exp(model.predict(X_test))\n",
    "\n",
    "# Model scoring\n",
    "print('Model XgBoost, OneHotEncoder, RobustScaler')\n",
    "print('Prediction of: ', target, '\\n')\n",
    "\n",
    "mae = mean_absolute_error(y_pred, y_test)\n",
    "print('MAE :', mae)\n",
    "rmse = mean_squared_error(y_pred, y_test)\n",
    "print('RMSE :', rmse)\n",
    "med_abs_err = median_absolute_error(y_pred, y_test)\n",
    "print('median abs err :', med_abs_err)\n",
    "rmsle = mean_squared_log_error(y_pred, y_test)\n",
    "print('RMSLE :', rmsle)\n",
    "R2_train = model.score(X_train, np.log(y_train))\n",
    "print('R2_train : ', R2_train)\n",
    "R2_test = model.score(X_test, np.log(y_test))\n",
    "print('R2_test : ', R2_test)\n",
    "executionTime = (time.time() - startTime)\n",
    "print('Execution time in seconds: ' + str(executionTime), '\\n')\n",
    "\n",
    "err_hist = np.abs(y_test - y_pred)\n",
    "plt.hist(np.log(err_hist), bins=50)\n",
    "plt.show()"
   ]
  },
  {
   "cell_type": "markdown",
   "id": "9b3c5937-dcf6-481d-8827-2eb99f169d31",
   "metadata": {
    "jp-MarkdownHeadingCollapsed": true,
    "tags": []
   },
   "source": [
    "### Features selection evaluation"
   ]
  },
  {
   "cell_type": "code",
   "execution_count": null,
   "id": "6884e67d-f756-491a-ba48-d3c1870977cf",
   "metadata": {},
   "outputs": [
    {
     "name": "stdout",
     "output_type": "stream",
     "text": [
      "Model XGBoost, OneHotEncoder, RobustScaler\n",
      "Prediction of:  TotalGHGEmissions \n",
      "\n",
      "{'selectfrommodel__threshold': 0.0}\n",
      "MAE : 24.33745137450241\n",
      "RMSE : 5197.143045148418\n",
      "median abs err : 6.513032836914064\n",
      "RMSLE : 0.09072055789871131\n",
      "R2_train :  0.9987752780134662\n",
      "R2_test :  0.9444543326466431\n",
      "Execution time in seconds: 1831.7178387641907 \n",
      "\n"
     ]
    },
    {
     "data": {
      "image/png": "[encoded data removed]",
      "text/plain": [
       "<Figure size 432x288 with 1 Axes>"
      ]
     },
     "metadata": {
      "needs_background": "light"
     },
     "output_type": "display_data"
    }
   ],
   "source": [
    "# Random Forest grid search CV Features Selection evaluation\n",
    "\n",
    "startTime = time.time()\n",
    "\n",
    "regressor = model.named_steps['xgbregressor']\n",
    "\n",
    "thresholds = np.sort(np.unique(regressor.feature_importances_))\n",
    "\n",
    "model = make_pipeline(preprocessor, \n",
    "                      SelectFromModel(RandomForestRegressor()),\n",
    "                      XGBRegressor(random_state=13))\n",
    "\n",
    "param_grid =  {'selectfrommodel__threshold' : thresholds}\n",
    "\n",
    "grid = GridSearchCV(model,\n",
    "                    param_grid,\n",
    "                    cv=5,\n",
    "                    scoring='r2', \n",
    "                    return_train_score= True)\n",
    "\n",
    "grid.fit(X_train, np.ravel(np.log(y_train)))\n",
    "y_pred = np.exp(grid.predict(X_test))\n",
    "\n",
    "# Model scoring\n",
    "print('Model XGBoost, OneHotEncoder, RobustScaler')\n",
    "print('Prediction of: ', target, '\\n')\n",
    "\n",
    "print(grid.best_params_)\n",
    "\n",
    "mae = mean_absolute_error(y_pred, y_test)\n",
    "print('MAE :', mae)\n",
    "rmse = mean_squared_error(y_pred, y_test)\n",
    "print('RMSE :', rmse)\n",
    "med_abs_err = median_absolute_error(y_pred, y_test)\n",
    "print('median abs err :', med_abs_err)\n",
    "rmsle = mean_squared_log_error(y_pred, y_test)\n",
    "print('RMSLE :', rmsle)\n",
    "R2_train = grid.score(X_train, np.log(y_train))\n",
    "print('R2_train : ', R2_train)\n",
    "R2_test = grid.score(X_test, np.log(y_test))\n",
    "print('R2_test : ', R2_test)\n",
    "executionTime = (time.time() - startTime)\n",
    "print('Execution time in seconds: ' + str(executionTime), '\\n')\n",
    "\n",
    "err_hist = np.abs(y_test - y_pred)\n",
    "plt.hist(np.log(err_hist), bins=50)\n",
    "plt.show()"
   ]
  },
  {
   "cell_type": "code",
   "execution_count": null,
   "id": "e04936a4-610b-47a6-8c3a-ed5b6fafea2d",
   "metadata": {},
   "outputs": [
    {
     "data": {
      "image/png": "[encoded data removed]",
      "text/plain": [
       "<Figure size 432x288 with 1 Axes>"
      ]
     },
     "metadata": {
      "needs_background": "light"
     },
     "output_type": "display_data"
    }
   ],
   "source": [
    "plot_grid_search_validation_curve(grid, 'selectfrommodel__threshold', log=False)"
   ]
  },
  {
   "cell_type": "code",
   "execution_count": null,
   "id": "9ce249db-766e-41a5-a38c-d289776af533",
   "metadata": {},
   "outputs": [],
   "source": [
    "# Fit model using each importance as a threshold\n",
    "X_train_scaled = preprocessor.fit_transform(X_train)\n",
    "X_test_scaled = preprocessor.transform(X_test)\n",
    "\n",
    "model = model.named_steps['xgbregressor']\n",
    "\n",
    "thresholds = np.sort(np.unique(model.feature_importances_))\n",
    "\n",
    "df_R2_test = list()\n",
    "Nb_features = list()\n",
    "for thresh in thresholds:\n",
    "    # select features using threshold\n",
    "    selection = SelectFromModel(model, threshold=thresh, prefit=True)\n",
    "    select_X_train = selection.transform(X_train_scaled)\n",
    "    # train model\n",
    "    selection_model = RandomForestRegressor()\n",
    "    selection_model.fit(select_X_train, np.log(y_train))\n",
    "    # eval model\n",
    "    select_X_test = selection.transform(X_test_scaled)\n",
    "    df_R2_test.append(selection_model.score(select_X_test, np.log(y_test)))\n",
    "    Nb_features.append(select_X_train.shape[1])\n",
    "    print(\"Thresh=%f, n=%d, R2: %f%%\" % (thresh, select_X_train.shape[1], selection_model.score(select_X_test, np.log(y_test))))\n",
    "    \n",
    "#Plot performance / features selection thresholds\n",
    "fig, ax = plt.subplots(constrained_layout=True, figsize = (10, 5))\n",
    "ax.plot(thresholds, df_R2_test)\n",
    "\n",
    "thresholds[Nb_features.index(np.max(df_R2_test))]"
   ]
  },
  {
   "cell_type": "markdown",
   "id": "9c63697b-424d-4864-9154-cb013d790be5",
   "metadata": {},
   "source": [
    "### Hyperparamters tuning"
   ]
  },
  {
   "cell_type": "code",
   "execution_count": null,
   "id": "0e0c0f19-b5b8-456e-9cd4-ad92732a5d53",
   "metadata": {},
   "outputs": [
    {
     "name": "stdout",
     "output_type": "stream",
     "text": [
      "Model XGboost, OneHotEncoder, RobustScaler\n",
      "Prediction of:  TotalGHGEmissions \n",
      "\n",
      "{'xgbregressor__learning_rate': 0.03, 'xgbregressor__n_estimators': 600, 'xgbregressor__subsample': 0.5}\n",
      "MAE : 38.76185893802551\n",
      "RMSE : 8878.087084936711\n",
      "median abs err : 9.924962005615235\n",
      "RMSLE : 0.17526249062296712\n",
      "R2_train :  0.981152835083463\n",
      "R2_test :  0.9109406154457891\n",
      "Execution time in seconds: 236.64426612854004 \n",
      "\n"
     ]
    },
    {
     "data": {
      "image/png": "[encoded data removed]",
      "text/plain": [
       "<Figure size 432x288 with 1 Axes>"
      ]
     },
     "metadata": {
      "needs_background": "light"
     },
     "output_type": "display_data"
    }
   ],
   "source": [
    "# XGboost grid search CV \n",
    "\n",
    "startTime = time.time()\n",
    "\n",
    "model = make_pipeline(preprocessor,\n",
    "                      XGBRegressor())\n",
    "\n",
    "\n",
    "param_grid =  {'xgbregressor__n_estimators': [100,300,600],\n",
    "               'xgbregressor__learning_rate': [0.01,0.03,0.6],\n",
    "               'xgbregressor__subsample'    : [1, 0.5, 0.1]}\n",
    "\n",
    "grid = GridSearchCV(model,\n",
    "                    param_grid,\n",
    "                    cv=5,\n",
    "                    scoring='r2',\n",
    "                    return_train_score=True)\n",
    "\n",
    "grid.fit(X_train, np.ravel(np.log(y_train)))\n",
    "\n",
    "\n",
    "y_pred = np.exp(grid.predict(X_test))\n",
    "\n",
    "# Model scoring\n",
    "print('Model XGboost, OneHotEncoder, RobustScaler')\n",
    "print('Prediction of: ', target, '\\n')\n",
    "\n",
    "print(grid.best_params_)\n",
    "\n",
    "mae = mean_absolute_error(y_pred, y_test)\n",
    "print('MAE :', mae)\n",
    "rmse = mean_squared_error(y_pred, y_test)\n",
    "print('RMSE :', rmse)\n",
    "med_abs_err = median_absolute_error(y_pred, y_test)\n",
    "print('median abs err :', med_abs_err)\n",
    "rmsle = mean_squared_log_error(y_pred, y_test)\n",
    "print('RMSLE :', rmsle)\n",
    "R2_train = grid.score(X_train, np.log(y_train))\n",
    "print('R2_train : ', R2_train)\n",
    "R2_test = grid.score(X_test, np.log(y_test))\n",
    "print('R2_test : ', R2_test)\n",
    "executionTime = (time.time() - startTime)\n",
    "print('Execution time in seconds: ' + str(executionTime), '\\n')\n",
    "\n",
    "err_hist = np.abs(y_test - y_pred)\n",
    "plt.hist(np.log(err_hist), bins=50)\n",
    "plt.show()"
   ]
  },
  {
   "cell_type": "code",
   "execution_count": null,
   "id": "b668bc31-af0f-41ed-8cff-6aeb698d0bc6",
   "metadata": {},
   "outputs": [
    {
     "data": {
      "image/png": "[encoded data removed]",
      "text/plain": [
       "<Figure size 432x288 with 1 Axes>"
      ]
     },
     "metadata": {
      "needs_background": "light"
     },
     "output_type": "display_data"
    }
   ],
   "source": [
    "plot_grid_search_validation_curve(grid, 'n_estimators', log=False)"
   ]
  },
  {
   "cell_type": "markdown",
   "id": "306fe2c2-ef4a-4503-be21-2a6ad75e3b4c",
   "metadata": {},
   "source": [
    "### Features importance"
   ]
  },
  {
   "cell_type": "code",
   "execution_count": null,
   "id": "bb512e84-9cf3-4009-be88-0a54642a3f38",
   "metadata": {},
   "outputs": [
    {
     "data": {
      "image/png": "[encoded data removed]",
      "text/plain": [
       "<Figure size 1440x432 with 2 Axes>"
      ]
     },
     "metadata": {
      "needs_background": "light"
     },
     "output_type": "display_data"
    }
   ],
   "source": [
    "# feature importance inspection\n",
    "from sklearn.inspection import permutation_importance\n",
    "\n",
    "# Recover features columns (especially after OneHotEncoder)\n",
    "onehot_columns = list(preprocessor.named_transformers_['onehotencoder'].\\\n",
    "                          get_feature_names_out(input_features=categorical_features))\n",
    "numeric_features_list = list(numeric_features)\n",
    "features_list = np.concatenate((numeric_features_list, onehot_columns))\n",
    "\n",
    "# Train model with best estimator from previous GridSearchCV\n",
    "model = grid.best_estimator_\n",
    "model = model.named_steps['xgbregressor']\n",
    "\n",
    "# Recover important features from previous fit and then permute importance\n",
    "n_feat = 10  # number of feature to show\n",
    "\n",
    "feature_importance = model.feature_importances_\n",
    "\n",
    "sorted_idx = np.argsort(feature_importance)\n",
    "pos = np.arange(sorted_idx.shape[0]) + .5\n",
    "\n",
    "fig = plt.figure(figsize=(20, 6))\n",
    "\n",
    "plt.subplot(1, 2, 1)\n",
    "plt.barh(pos[-1*n_feat:], feature_importance[sorted_idx]\n",
    "         [-1*n_feat:], align='center')\n",
    "plt.yticks(pos[-1*n_feat:], features_list[sorted_idx][-1*n_feat:])\n",
    "plt.title('Feature Importance (MDI)')\n",
    "\n",
    "result = permutation_importance(model,\n",
    "                                X_test_scaled.toarray(),\n",
    "                                y_test,\n",
    "                                n_repeats=10,\n",
    "                                random_state=42,\n",
    "                                n_jobs=2)\n",
    "sorted_idx = result.importances_mean.argsort()[-1*n_feat:]\n",
    "\n",
    "plt.subplot(1, 2, 2)\n",
    "plt.boxplot(result.importances[sorted_idx].T[-1*n_feat:],\n",
    "            vert=False,\n",
    "            labels=features_list[sorted_idx][-1*n_feat:])\n",
    "plt.title(\"Permutation Importance (test set)\")\n",
    "fig.tight_layout(pad=0.8)\n",
    "plt.show()"
   ]
  },
  {
   "cell_type": "markdown",
   "id": "9480c81d-184e-4966-8bf0-91b8f216f106",
   "metadata": {},
   "source": [
    "### Learning Curve"
   ]
  },
  {
   "cell_type": "code",
   "execution_count": null,
   "id": "0896c7ae-8c1c-41a9-a44b-c62d7ebd8f05",
   "metadata": {},
   "outputs": [
    {
     "data": {
      "text/plain": [
       "<matplotlib.legend.Legend at 0x7fad14ce1d60>"
      ]
     },
     "execution_count": 45,
     "metadata": {},
     "output_type": "execute_result"
    },
    {
     "data": {
      "image/png": "[encoded data removed]",
      "text/plain": [
       "<Figure size 720x360 with 1 Axes>"
      ]
     },
     "metadata": {
      "needs_background": "light"
     },
     "output_type": "display_data"
    }
   ],
   "source": [
    "# Learning Curve AVEC\n",
    "xgBoost = grid.best_estimator_\n",
    "\n",
    "N, train_score, val_score = learning_curve(xgBoost,\n",
    "                                           X_train,\n",
    "                                           np.log(y_train),\n",
    "                                           train_sizes=np.linspace(0.1,1.0, 10),\n",
    "                                           cv=5,\n",
    "                                           scoring='r2')\n",
    "\n",
    "fig = plt.figure(figsize=(10, 5))\n",
    "plt.plot(N, train_score.mean(axis=1), label='train')\n",
    "plt.plot(N, val_score.mean(axis=1), label='validation')\n",
    "plt.xlabel('train_sizes')\n",
    "plt.legend()"
   ]
  },
  {
   "cell_type": "code",
   "execution_count": null,
   "id": "7814addf-1033-467b-8512-96cac2134cf4",
   "metadata": {},
   "outputs": [
    {
     "data": {
      "text/plain": [
       "<matplotlib.legend.Legend at 0x7fad1dfecc10>"
      ]
     },
     "execution_count": 56,
     "metadata": {},
     "output_type": "execute_result"
    },
    {
     "data": {
      "image/png": "[encoded data removed]",
      "text/plain": [
       "<Figure size 720x360 with 1 Axes>"
      ]
     },
     "metadata": {
      "needs_background": "light"
     },
     "output_type": "display_data"
    }
   ],
   "source": [
    "# Learning Curve SANS\n",
    "xgBoost = grid.best_estimator_\n",
    "\n",
    "N_sans, train_score_sans, val_score_sans = learning_curve(xgBoost,\n",
    "                                                          X_train,\n",
    "                                                          np.log(y_train),\n",
    "                                                          train_sizes = np.linspace(0.1, 1.0, 10),\n",
    "                                                          cv=5,\n",
    "                                                          scoring='r2')\n",
    "\n",
    "fig = plt.figure(figsize=(10, 5))\n",
    "plt.plot(N, train_score.mean(axis=1), label='train AVEC')\n",
    "plt.plot(N_sans, train_score_sans.mean(axis=1), label='train SANS')\n",
    "plt.plot(N, val_score.mean(axis=1), label='validation AVEC')\n",
    "plt.plot(N_sans, val_score_sans.mean(axis=1), label='validation SANS')\n",
    "plt.xlabel('train_sizes')\n",
    "plt.legend()"
   ]
  },
  {
   "cell_type": "code",
   "execution_count": null,
   "id": "8db70f0c-39b3-42cd-a9c2-dd9c2e27fa24",
   "metadata": {},
   "outputs": [
    {
     "data": {
      "text/plain": [
       "<matplotlib.legend.Legend at 0x7fad40233ac0>"
      ]
     },
     "execution_count": 67,
     "metadata": {},
     "output_type": "execute_result"
    },
    {
     "data": {
      "image/png": "[encoded data removed]",
      "text/plain": [
       "<Figure size 720x360 with 1 Axes>"
      ]
     },
     "metadata": {
      "needs_background": "light"
     },
     "output_type": "display_data"
    }
   ],
   "source": [
    "fig = plt.figure(figsize=(10, 5))\n",
    "\n",
    "plt.plot(N_sans, train_score_sans.mean(axis=1), label='train SANS')\n",
    "plt.plot(N_sans, val_score_sans.mean(axis=1), label='validation SANS')\n",
    "plt.hlines(y=0.957, xmin=200, xmax=2000, linestyles='dotted', label='Best model AVEC')\n",
    "plt.xlabel('train_sizes')\n",
    "plt.legend()"
   ]
  },
  {
   "cell_type": "markdown",
   "id": "041c213d-182b-409a-a163-43b6350e15bc",
   "metadata": {},
   "source": [
    "## Conclusion"
   ]
  },
  {
   "cell_type": "markdown",
   "id": "1593d595-4187-4d63-9fc6-c68c58688eee",
   "metadata": {},
   "source": [
    "Based on the R2, the optimized XGboost model, offers the best prediction of CO2 emission and Energy Use with a R2 of 95.7% and 94.5% respectively. Also time to fit is quiet similar so no need to select over this criteria. \n",
    "ENERGYSTARscore seems to be a importante features to predict CO2 Emissions as the study of MDI and permutation importance rank this features in the top 10 of importante features. More over if we try to predict GHGEmssions without this feature, even with bigger sample size the R2 score is still lower."
   ]
  },
  {
   "cell_type": "markdown",
   "id": "0198c00f-80d2-4cd4-9539-a71612ba3e51",
   "metadata": {
    "tags": []
   },
   "source": [
    "# Test Simple linear regression"
   ]
  },
  {
   "cell_type": "code",
   "execution_count": null,
   "id": "aa533289-56de-439f-aa43-4ba1e6cea7ec",
   "metadata": {},
   "outputs": [
    {
     "name": "stdout",
     "output_type": "stream",
     "text": [
      "Model XGboost, OneHotEncoder, RobustScaler\n",
      "Prediction of:  SiteEnergyUse(kBtu) \n",
      "\n",
      "{}\n",
      "MAE : 68.90914741481899\n",
      "RMSE : 31272.98822294565\n",
      "median abs err : 26.64692538579665\n",
      "RMSLE : 0.7375627126624991\n",
      "R2_train :  0.621698296974639\n",
      "R2_test :  0.5389806649061897\n",
      "Execution time in seconds: 0.411790132522583 \n",
      "\n"
     ]
    },
    {
     "data": {
      "image/png": "[encoded data removed]",
      "text/plain": [
       "<Figure size 432x288 with 1 Axes>"
      ]
     },
     "metadata": {
      "needs_background": "light"
     },
     "output_type": "display_data"
    },
    {
     "name": "stdout",
     "output_type": "stream",
     "text": [
      "Model XGboost, OneHotEncoder, RobustScaler\n",
      "Prediction of:  TotalGHGEmissions \n",
      "\n",
      "{}\n",
      "MAE : 68.90914741481899\n",
      "RMSE : 31272.98822294565\n",
      "median abs err : 26.64692538579665\n",
      "RMSLE : 0.7375627126624991\n",
      "R2_train :  0.621698296974639\n",
      "R2_test :  0.5389806649061897\n",
      "Execution time in seconds: 0.36110901832580566 \n",
      "\n"
     ]
    },
    {
     "data": {
      "image/png": "[encoded data removed]",
      "text/plain": [
       "<Figure size 432x288 with 1 Axes>"
      ]
     },
     "metadata": {
      "needs_background": "light"
     },
     "output_type": "display_data"
    }
   ],
   "source": [
    "for target in targets:\n",
    "    startTime = time.time()\n",
    "    \n",
    "    model = make_pipeline(preprocessor,\n",
    "                          LinearRegression())\n",
    "\n",
    "    param_grid =  {}\n",
    "\n",
    "    grid = GridSearchCV(model,\n",
    "                        param_grid,\n",
    "                        cv=5,\n",
    "                        scoring='r2')\n",
    "\n",
    "    grid.fit(X_train, np.ravel(np.log(y_train)))\n",
    "\n",
    "    y_pred = np.exp(grid.predict(X_test))\n",
    "\n",
    "    # Model scoring\n",
    "    print('Model XGboost, OneHotEncoder, RobustScaler')\n",
    "    print('Prediction of: ', target, '\\n')\n",
    "\n",
    "    print(grid.best_params_)\n",
    "\n",
    "    mae = mean_absolute_error(y_pred, y_test)\n",
    "    print('MAE :', mae)\n",
    "    rmse = mean_squared_error(y_pred, y_test)\n",
    "    print('RMSE :', rmse)\n",
    "    med_abs_err = median_absolute_error(y_pred, y_test)\n",
    "    print('median abs err :', med_abs_err)\n",
    "    rmsle = mean_squared_log_error(y_pred, y_test)\n",
    "    print('RMSLE :', rmsle)\n",
    "    R2_train = grid.score(X_train, np.log(y_train))\n",
    "    print('R2_train : ', R2_train)\n",
    "    R2_test = grid.score(X_test, np.log(y_test))\n",
    "    print('R2_test : ', R2_test)\n",
    "    executionTime = (time.time() - startTime)\n",
    "    print('Execution time in seconds: ' + str(executionTime), '\\n')\n",
    "\n",
    "    err_hist = np.abs(y_test - y_pred)\n",
    "    plt.hist(np.log(err_hist), bins=50)\n",
    "    plt.show()"
   ]
  },
  {
   "cell_type": "code",
   "execution_count": null,
   "id": "1fd4f9fe-dc83-427d-b173-0361d95e9c92",
   "metadata": {},
   "outputs": [
    {
     "data": {
      "image/png": "[encoded data removed]",
      "text/plain": [
       "<Figure size 432x288 with 1 Axes>"
      ]
     },
     "metadata": {
      "needs_background": "light"
     },
     "output_type": "display_data"
    },
    {
     "data": {
      "image/png": "[encoded data removed]",
      "text/plain": [
       "<Figure size 432x288 with 1 Axes>"
      ]
     },
     "metadata": {
      "needs_background": "light"
     },
     "output_type": "display_data"
    }
   ],
   "source": [
    "# Learning Curve\n",
    "\n",
    "for target in targets:\n",
    "    \n",
    "    model = make_pipeline(preprocessor,\n",
    "                   LinearRegression())\n",
    "    \n",
    "    N, train_score, val_score = learning_curve(model,\n",
    "                                               X_train,\n",
    "                                               y_train_full[target], \n",
    "                                               train_sizes=np.linspace(0.4, 1.0, 10),\n",
    "                                               cv=5,\n",
    "                                               scoring='r2')\n",
    "\n",
    "    plt.plot(N, train_score.mean(axis=1), label='train')\n",
    "    plt.plot(N, val_score.mean(axis=1), label='validation')\n",
    "    plt.title(target)\n",
    "    plt.xlabel('train_sizes')\n",
    "    plt.legend()\n",
    "    plt.show()"
   ]
  },
  {
   "cell_type": "markdown",
   "id": "464c7a20-c9d9-4e24-a229-2a206cc414ae",
   "metadata": {},
   "source": [
    "### Ridge regression"
   ]
  },
  {
   "cell_type": "code",
   "execution_count": null,
   "id": "56b01788-33ad-45a0-9a60-7d39b969e6a8",
   "metadata": {},
   "outputs": [],
   "source": [
    "#Ridge regulation visualisation\n",
    "\n",
    "y_model = y['TotalGHGEmissions']\n",
    "\n",
    "n_alphas = 60\n",
    "alphas = np.logspace(-5, 5, 11)\n",
    "\n",
    "processed_X = preprocessor.fit_transform(X)\n",
    "\n",
    "X_train2, X_test2, y_train2, y_test2 = train_test_split(processed_X,\n",
    "                                                        np.ravel(np.log(y_model)),\n",
    "                                                        test_size=0.2,\n",
    "                                                        random_state=13)"
   ]
  },
  {
   "cell_type": "code",
   "execution_count": null,
   "id": "16c48ebd-8eff-42c3-9157-ffcbaabb9ee4",
   "metadata": {},
   "outputs": [],
   "source": [
    "ridge = Ridge()\n",
    "\n",
    "coefs = []\n",
    "errors = []\n",
    "for a in alphas:\n",
    "    ridge.set_params(alpha=a)\n",
    "    ridge.fit(X_train2, y_train2)\n",
    "    coefs.append(ridge.coef_)\n",
    "    errors.append(np.mean((ridge.predict(X_test2) - y_test2) ** 2))"
   ]
  },
  {
   "cell_type": "code",
   "execution_count": null,
   "id": "ad3666f6-4467-4981-8607-b04fd7569461",
   "metadata": {},
   "outputs": [
    {
     "data": {
      "image/png": "[encoded data removed]",
      "text/plain": [
       "<Figure size 432x288 with 1 Axes>"
      ]
     },
     "metadata": {
      "needs_background": "light"
     },
     "output_type": "display_data"
    }
   ],
   "source": [
    "# Ridge coefficients as a function of the regularization\n",
    "ax = plt.gca()\n",
    "\n",
    "ax.plot(alphas, coefs)\n",
    "ax.set_xscale('log')\n",
    "plt.xlabel('alpha')\n",
    "plt.ylabel('weights')\n",
    "plt.title('Ridge coefficients as a function of the regularization')\n",
    "plt.axis('tight')\n",
    "plt.show()"
   ]
  },
  {
   "cell_type": "code",
   "execution_count": null,
   "id": "34cbb685-1aa1-4790-bf68-7e1c95ec2fe2",
   "metadata": {},
   "outputs": [
    {
     "data": {
      "image/png": "[encoded data removed]",
      "text/plain": [
       "<Figure size 432x288 with 1 Axes>"
      ]
     },
     "metadata": {
      "needs_background": "light"
     },
     "output_type": "display_data"
    }
   ],
   "source": [
    "# Best alpha\n",
    "ax = plt.gca()\n",
    "\n",
    "ax.plot(alphas, errors)\n",
    "ax.set_xscale('log')\n",
    "plt.xlabel('alpha')\n",
    "plt.ylabel('error')\n",
    "plt.axis('tight')\n",
    "plt.show()"
   ]
  },
  {
   "cell_type": "code",
   "execution_count": null,
   "id": "11098215-8b7a-4a6e-b385-2bc6ed0ce967",
   "metadata": {},
   "outputs": [],
   "source": [
    "# ridge regression GridSearch 'TotalGHGEmissions'\n",
    "\n",
    "ridge = make_pipeline(preprocessor, \n",
    "                      Ridge(random_state=0))\n",
    "params = { \n",
    "    'ridge__alpha' : np.logspace(-5, 5, 50)\n",
    "}\n",
    "\n",
    "grid = GridSearchCV(ridge,\n",
    "                    param_grid=params,\n",
    "                    cv=5,\n",
    "                    scoring='r2',\n",
    "                    return_train_score=True)\n",
    "\n",
    "startTime = time.time()\n",
    "grid.fit(X_train, np.log(y_train_full['TotalGHGEmissions']))\n",
    "executionTime = (time.time() - startTime)"
   ]
  },
  {
   "cell_type": "code",
   "execution_count": null,
   "id": "92bf2c92-52fd-486e-bdc8-4f3eb4e1bdfd",
   "metadata": {},
   "outputs": [
    {
     "data": {
      "image/png": "[encoded data removed]",
      "text/plain": [
       "<Figure size 432x288 with 1 Axes>"
      ]
     },
     "metadata": {
      "needs_background": "light"
     },
     "output_type": "display_data"
    }
   ],
   "source": [
    "plot_grid_search_validation_curve(grid, 'ridge__alpha', log=False)\n"
   ]
  },
  {
   "cell_type": "code",
   "execution_count": null,
   "id": "d6dedd6f-8616-411b-b4c9-2e0ca57cd1ce",
   "metadata": {},
   "outputs": [
    {
     "name": "stdout",
     "output_type": "stream",
     "text": [
      "Model Ridge, OneHotEncoder, RobustScaler\n",
      "Prediction of: TotalGHGEmissions \n",
      "\n",
      "{'ridge__alpha': 0.30888435964774846}\n",
      "MAE : 66.1866425877039\n",
      "RMSE : 26810.518099702087\n",
      "median abs err : 22.421382228929886\n",
      "RMSLE : 0.8334503060744322\n",
      "R2_train :  0.5959600676934877\n",
      "R2_test :  0.4782280161472362\n",
      "Execution time in seconds: 9.799011945724487 \n",
      "\n"
     ]
    },
    {
     "data": {
      "image/png": "[encoded data removed]",
      "text/plain": [
       "<Figure size 432x288 with 1 Axes>"
      ]
     },
     "metadata": {
      "needs_background": "light"
     },
     "output_type": "display_data"
    }
   ],
   "source": [
    "ridge = grid.best_estimator_\n",
    "y_pred = np.exp(ridge.predict(X_test))\n",
    "\n",
    "\n",
    "# Model scoring\n",
    "print('Model Ridge, OneHotEncoder, RobustScaler')\n",
    "print('Prediction of: TotalGHGEmissions \\n')\n",
    "\n",
    "print(grid.best_params_)\n",
    "\n",
    "mae = mean_absolute_error(y_pred, y_test)\n",
    "print('MAE :', mae)\n",
    "rmse = mean_squared_error(y_pred, y_test)\n",
    "print('RMSE :', rmse)\n",
    "med_abs_err = median_absolute_error(y_pred, y_test)\n",
    "print('median abs err :', med_abs_err)\n",
    "rmsle = mean_squared_log_error(y_pred, y_test)\n",
    "print('RMSLE :', rmsle)\n",
    "R2_train = ridge.score(X_train, np.log(y_train))\n",
    "print('R2_train : ', R2_train)\n",
    "R2_test = ridge.score(X_test, np.log(y_test))\n",
    "print('R2_test : ', R2_test)\n",
    "\n",
    "print('Execution time in seconds: ' + str(executionTime), '\\n')\n",
    "\n",
    "err_hist = np.abs(y_test - y_pred)\n",
    "plt.hist(np.log(err_hist), bins=50)\n",
    "plt.show()"
   ]
  },
  {
   "cell_type": "code",
   "execution_count": null,
   "id": "c68a2f0d-a7c3-4e3b-ae76-89fb263193cb",
   "metadata": {},
   "outputs": [
    {
     "data": {
      "image/png": "[encoded data removed]",
      "text/plain": [
       "<Figure size 432x288 with 1 Axes>"
      ]
     },
     "metadata": {
      "needs_background": "light"
     },
     "output_type": "display_data"
    }
   ],
   "source": [
    "# Learning Curve\n",
    "N, train_score, val_score = learning_curve(ridge,\n",
    "                                           X_train,\n",
    "                                           np.log(y_train_full['TotalGHGEmissions']), \n",
    "                                           train_sizes=np.linspace(0.1,1.0, 10),\n",
    "                                           cv=5,\n",
    "                                           scoring='r2')\n",
    "\n",
    "plt.plot(N, train_score.mean(axis=1), label='train')\n",
    "plt.plot(N, val_score.mean(axis=1), label='validation')\n",
    "plt.title(target)\n",
    "plt.xlabel('train_sizes')\n",
    "plt.legend()\n",
    "plt.show()"
   ]
  },
  {
   "cell_type": "markdown",
   "id": "2d521982-19b8-4555-9535-642171deefd5",
   "metadata": {},
   "source": [
    "### Lasso regression"
   ]
  },
  {
   "cell_type": "code",
   "execution_count": null,
   "id": "4397b50c-6ebc-4798-9c99-8c77d064f347",
   "metadata": {},
   "outputs": [
    {
     "name": "stderr",
     "output_type": "stream",
     "text": [
      "/Users/franck/opt/anaconda3/lib/python3.8/site-packages/sklearn/linear_model/_coordinate_descent.py:609: ConvergenceWarning: Objective did not converge. You might want to increase the number of iterations. Duality gap: 224.4593916261138, tolerance: 0.3578009113581225\n",
      "  model = cd_fast.sparse_enet_coordinate_descent(\n",
      "/Users/franck/opt/anaconda3/lib/python3.8/site-packages/sklearn/linear_model/_coordinate_descent.py:609: ConvergenceWarning: Objective did not converge. You might want to increase the number of iterations. Duality gap: 1.0623103624295709, tolerance: 0.3578009113581225\n",
      "  model = cd_fast.sparse_enet_coordinate_descent(\n"
     ]
    }
   ],
   "source": [
    "#Lasso regulation visualisation\n",
    "\n",
    "y_model = y['TotalGHGEmissions']\n",
    "\n",
    "n_alphas = 60\n",
    "alphas = np.logspace(-5, 5, 11)\n",
    "\n",
    "processed_X = preprocessor.fit_transform(X)\n",
    "\n",
    "X_train2, X_test2, y_train2, y_test2 = train_test_split(processed_X,\n",
    "                                                        np.ravel(np.log(y_model)),\n",
    "                                                        test_size=0.2,\n",
    "                                                        random_state=13)\n",
    "\n",
    "lasso = Lasso()\n",
    "\n",
    "coefs = []\n",
    "errors = []\n",
    "for a in alphas:\n",
    "    lasso.set_params(alpha=a)\n",
    "    lasso.fit(X_train2, y_train2)\n",
    "    coefs.append(lasso.coef_)\n",
    "    errors.append(np.mean((lasso.predict(X_test2) - y_test2) ** 2))"
   ]
  },
  {
   "cell_type": "code",
   "execution_count": null,
   "id": "4c94bc38-a156-41be-94f4-221a2c3fe12a",
   "metadata": {},
   "outputs": [
    {
     "data": {
      "image/png": "[encoded data removed]",
      "text/plain": [
       "<Figure size 432x288 with 1 Axes>"
      ]
     },
     "metadata": {
      "needs_background": "light"
     },
     "output_type": "display_data"
    }
   ],
   "source": [
    "# Lasso coefficients as a function of the regularization\n",
    "ax = plt.gca()\n",
    "\n",
    "ax.plot(alphas, coefs)\n",
    "ax.set_xscale('log')\n",
    "plt.xlabel('alpha')\n",
    "plt.ylabel('weights')\n",
    "plt.title('Lasso coefficients as a function of the regularization')\n",
    "plt.axis('tight')\n",
    "plt.show()"
   ]
  },
  {
   "cell_type": "code",
   "execution_count": null,
   "id": "07fb8798-6c3e-4e84-9856-93220311ccdb",
   "metadata": {},
   "outputs": [
    {
     "data": {
      "image/png": "[encoded data removed]",
      "text/plain": [
       "<Figure size 432x288 with 1 Axes>"
      ]
     },
     "metadata": {
      "needs_background": "light"
     },
     "output_type": "display_data"
    }
   ],
   "source": [
    "# Best alpha\n",
    "ax = plt.gca()\n",
    "\n",
    "ax.plot(alphas, errors)\n",
    "ax.set_xscale('log')\n",
    "plt.xlabel('alpha')\n",
    "plt.ylabel('error')\n",
    "plt.axis('tight')\n",
    "plt.show()"
   ]
  },
  {
   "cell_type": "code",
   "execution_count": null,
   "id": "482bebb5-5b55-4df8-90fd-689eacd4bce9",
   "metadata": {},
   "outputs": [
    {
     "name": "stderr",
     "output_type": "stream",
     "text": [
      "/Users/franck/opt/anaconda3/lib/python3.8/site-packages/sklearn/linear_model/_coordinate_descent.py:609: ConvergenceWarning: Objective did not converge. You might want to increase the number of iterations. Duality gap: 187.7236179223458, tolerance: 0.2899564806035315\n",
      "  model = cd_fast.sparse_enet_coordinate_descent(\n",
      "/Users/franck/opt/anaconda3/lib/python3.8/site-packages/sklearn/linear_model/_coordinate_descent.py:609: ConvergenceWarning: Objective did not converge. You might want to increase the number of iterations. Duality gap: 187.84310353510898, tolerance: 0.29873821191772687\n",
      "  model = cd_fast.sparse_enet_coordinate_descent(\n",
      "/Users/franck/opt/anaconda3/lib/python3.8/site-packages/sklearn/linear_model/_coordinate_descent.py:609: ConvergenceWarning: Objective did not converge. You might want to increase the number of iterations. Duality gap: 111.97260838945942, tolerance: 0.3015419516868522\n",
      "  model = cd_fast.sparse_enet_coordinate_descent(\n",
      "/Users/franck/opt/anaconda3/lib/python3.8/site-packages/sklearn/linear_model/_coordinate_descent.py:609: ConvergenceWarning: Objective did not converge. You might want to increase the number of iterations. Duality gap: 188.7460025089091, tolerance: 0.2895653194523866\n",
      "  model = cd_fast.sparse_enet_coordinate_descent(\n",
      "/Users/franck/opt/anaconda3/lib/python3.8/site-packages/sklearn/linear_model/_coordinate_descent.py:609: ConvergenceWarning: Objective did not converge. You might want to increase the number of iterations. Duality gap: 189.12552568273594, tolerance: 0.2993763940053333\n",
      "  model = cd_fast.sparse_enet_coordinate_descent(\n",
      "/Users/franck/opt/anaconda3/lib/python3.8/site-packages/sklearn/linear_model/_coordinate_descent.py:609: ConvergenceWarning: Objective did not converge. You might want to increase the number of iterations. Duality gap: 39.94885203730644, tolerance: 0.2899564806035315\n",
      "  model = cd_fast.sparse_enet_coordinate_descent(\n",
      "/Users/franck/opt/anaconda3/lib/python3.8/site-packages/sklearn/linear_model/_coordinate_descent.py:609: ConvergenceWarning: Objective did not converge. You might want to increase the number of iterations. Duality gap: 194.28527818992893, tolerance: 0.29873821191772687\n",
      "  model = cd_fast.sparse_enet_coordinate_descent(\n",
      "/Users/franck/opt/anaconda3/lib/python3.8/site-packages/sklearn/linear_model/_coordinate_descent.py:609: ConvergenceWarning: Objective did not converge. You might want to increase the number of iterations. Duality gap: 114.87556507871864, tolerance: 0.3015419516868522\n",
      "  model = cd_fast.sparse_enet_coordinate_descent(\n",
      "/Users/franck/opt/anaconda3/lib/python3.8/site-packages/sklearn/linear_model/_coordinate_descent.py:609: ConvergenceWarning: Objective did not converge. You might want to increase the number of iterations. Duality gap: 195.82054248523536, tolerance: 0.2895653194523866\n",
      "  model = cd_fast.sparse_enet_coordinate_descent(\n",
      "/Users/franck/opt/anaconda3/lib/python3.8/site-packages/sklearn/linear_model/_coordinate_descent.py:609: ConvergenceWarning: Objective did not converge. You might want to increase the number of iterations. Duality gap: 196.21660272141241, tolerance: 0.2993763940053333\n",
      "  model = cd_fast.sparse_enet_coordinate_descent(\n",
      "/Users/franck/opt/anaconda3/lib/python3.8/site-packages/sklearn/linear_model/_coordinate_descent.py:609: ConvergenceWarning: Objective did not converge. You might want to increase the number of iterations. Duality gap: 42.96568205795154, tolerance: 0.2899564806035315\n",
      "  model = cd_fast.sparse_enet_coordinate_descent(\n",
      "/Users/franck/opt/anaconda3/lib/python3.8/site-packages/sklearn/linear_model/_coordinate_descent.py:609: ConvergenceWarning: Objective did not converge. You might want to increase the number of iterations. Duality gap: 17.632342198021206, tolerance: 0.29873821191772687\n",
      "  model = cd_fast.sparse_enet_coordinate_descent(\n",
      "/Users/franck/opt/anaconda3/lib/python3.8/site-packages/sklearn/linear_model/_coordinate_descent.py:609: ConvergenceWarning: Objective did not converge. You might want to increase the number of iterations. Duality gap: 23.809125340028913, tolerance: 0.3015419516868522\n",
      "  model = cd_fast.sparse_enet_coordinate_descent(\n",
      "/Users/franck/opt/anaconda3/lib/python3.8/site-packages/sklearn/linear_model/_coordinate_descent.py:609: ConvergenceWarning: Objective did not converge. You might want to increase the number of iterations. Duality gap: 104.50690841322626, tolerance: 0.2895653194523866\n",
      "  model = cd_fast.sparse_enet_coordinate_descent(\n",
      "/Users/franck/opt/anaconda3/lib/python3.8/site-packages/sklearn/linear_model/_coordinate_descent.py:609: ConvergenceWarning: Objective did not converge. You might want to increase the number of iterations. Duality gap: 21.128601895187558, tolerance: 0.2993763940053333\n",
      "  model = cd_fast.sparse_enet_coordinate_descent(\n",
      "/Users/franck/opt/anaconda3/lib/python3.8/site-packages/sklearn/linear_model/_coordinate_descent.py:609: ConvergenceWarning: Objective did not converge. You might want to increase the number of iterations. Duality gap: 44.61944576125734, tolerance: 0.2899564806035315\n",
      "  model = cd_fast.sparse_enet_coordinate_descent(\n",
      "/Users/franck/opt/anaconda3/lib/python3.8/site-packages/sklearn/linear_model/_coordinate_descent.py:609: ConvergenceWarning: Objective did not converge. You might want to increase the number of iterations. Duality gap: 18.207456878063454, tolerance: 0.29873821191772687\n",
      "  model = cd_fast.sparse_enet_coordinate_descent(\n",
      "/Users/franck/opt/anaconda3/lib/python3.8/site-packages/sklearn/linear_model/_coordinate_descent.py:609: ConvergenceWarning: Objective did not converge. You might want to increase the number of iterations. Duality gap: 14.014378621617993, tolerance: 0.3015419516868522\n",
      "  model = cd_fast.sparse_enet_coordinate_descent(\n",
      "/Users/franck/opt/anaconda3/lib/python3.8/site-packages/sklearn/linear_model/_coordinate_descent.py:609: ConvergenceWarning: Objective did not converge. You might want to increase the number of iterations. Duality gap: 40.18109302280516, tolerance: 0.2895653194523866\n",
      "  model = cd_fast.sparse_enet_coordinate_descent(\n",
      "/Users/franck/opt/anaconda3/lib/python3.8/site-packages/sklearn/linear_model/_coordinate_descent.py:609: ConvergenceWarning: Objective did not converge. You might want to increase the number of iterations. Duality gap: 1.6457634425660217, tolerance: 0.2993763940053333\n",
      "  model = cd_fast.sparse_enet_coordinate_descent(\n",
      "/Users/franck/opt/anaconda3/lib/python3.8/site-packages/sklearn/linear_model/_coordinate_descent.py:609: ConvergenceWarning: Objective did not converge. You might want to increase the number of iterations. Duality gap: 1.4407329570997263, tolerance: 0.2899564806035315\n",
      "  model = cd_fast.sparse_enet_coordinate_descent(\n",
      "/Users/franck/opt/anaconda3/lib/python3.8/site-packages/sklearn/linear_model/_coordinate_descent.py:609: ConvergenceWarning: Objective did not converge. You might want to increase the number of iterations. Duality gap: 0.5718120735793946, tolerance: 0.29873821191772687\n",
      "  model = cd_fast.sparse_enet_coordinate_descent(\n",
      "/Users/franck/opt/anaconda3/lib/python3.8/site-packages/sklearn/linear_model/_coordinate_descent.py:609: ConvergenceWarning: Objective did not converge. You might want to increase the number of iterations. Duality gap: 0.5766361857849915, tolerance: 0.3015419516868522\n",
      "  model = cd_fast.sparse_enet_coordinate_descent(\n",
      "/Users/franck/opt/anaconda3/lib/python3.8/site-packages/sklearn/linear_model/_coordinate_descent.py:609: ConvergenceWarning: Objective did not converge. You might want to increase the number of iterations. Duality gap: 26.1377949032302, tolerance: 0.2895653194523866\n",
      "  model = cd_fast.sparse_enet_coordinate_descent(\n",
      "/Users/franck/opt/anaconda3/lib/python3.8/site-packages/sklearn/linear_model/_coordinate_descent.py:609: ConvergenceWarning: Objective did not converge. You might want to increase the number of iterations. Duality gap: 0.8371453297640983, tolerance: 0.2993763940053333\n",
      "  model = cd_fast.sparse_enet_coordinate_descent(\n",
      "/Users/franck/opt/anaconda3/lib/python3.8/site-packages/sklearn/linear_model/_coordinate_descent.py:609: ConvergenceWarning: Objective did not converge. You might want to increase the number of iterations. Duality gap: 4.178563868476203, tolerance: 0.2895653194523866\n",
      "  model = cd_fast.sparse_enet_coordinate_descent(\n",
      "/Users/franck/opt/anaconda3/lib/python3.8/site-packages/sklearn/linear_model/_coordinate_descent.py:609: ConvergenceWarning: Objective did not converge. You might want to increase the number of iterations. Duality gap: 0.6193856711852277, tolerance: 0.2895653194523866\n",
      "  model = cd_fast.sparse_enet_coordinate_descent(\n",
      "/Users/franck/opt/anaconda3/lib/python3.8/site-packages/sklearn/linear_model/_coordinate_descent.py:609: ConvergenceWarning: Objective did not converge. You might want to increase the number of iterations. Duality gap: 238.24159337576373, tolerance: 0.3698042877748953\n",
      "  model = cd_fast.sparse_enet_coordinate_descent(\n"
     ]
    }
   ],
   "source": [
    "# lasso regression GridSearch 'TotalGHGEmissions'\n",
    "\n",
    "lasso = make_pipeline(preprocessor, \n",
    "                      Lasso(random_state=0))\n",
    "params = { \n",
    "    'lasso__alpha' : np.logspace(-5, 5, 50)\n",
    "}\n",
    "\n",
    "grid = GridSearchCV(lasso,\n",
    "                    param_grid=params,\n",
    "                    cv=5,\n",
    "                    scoring='r2',\n",
    "                    return_train_score=True)\n",
    "\n",
    "startTime = time.time()\n",
    "grid.fit(X_train, np.log(y_train_full['TotalGHGEmissions']))\n",
    "executionTime = (time.time() - startTime)"
   ]
  },
  {
   "cell_type": "code",
   "execution_count": null,
   "id": "c875b0dc-7530-4693-a22a-3417b5866d1c",
   "metadata": {},
   "outputs": [
    {
     "data": {
      "image/png": "[encoded data removed]",
      "text/plain": [
       "<Figure size 432x288 with 1 Axes>"
      ]
     },
     "metadata": {
      "needs_background": "light"
     },
     "output_type": "display_data"
    }
   ],
   "source": [
    "plot_grid_search_validation_curve(grid, 'lasso__alpha', log=False)"
   ]
  },
  {
   "cell_type": "code",
   "execution_count": null,
   "id": "7933be4e-d714-4eb1-bb0c-1ef6c57a2784",
   "metadata": {},
   "outputs": [
    {
     "name": "stdout",
     "output_type": "stream",
     "text": [
      "Model Lasso, OneHotEncoder, RobustScaler\n",
      "Prediction of: TotalGHGEmissions \n",
      "\n",
      "{'lasso__alpha': 1e-05}\n",
      "MAE : 62.141779057271265\n",
      "RMSE : 24453.944431275973\n",
      "median abs err : 23.580636591451892\n",
      "RMSLE : 0.6860109716763072\n",
      "R2_train :  0.652229561081842\n",
      "R2_test :  0.5712656180899969\n",
      "Execution time in seconds: 22.271809577941895 \n",
      "\n"
     ]
    },
    {
     "data": {
      "image/png": "[encoded data removed]",
      "text/plain": [
       "<Figure size 432x288 with 1 Axes>"
      ]
     },
     "metadata": {
      "needs_background": "light"
     },
     "output_type": "display_data"
    }
   ],
   "source": [
    "lasso = grid.best_estimator_\n",
    "y_pred = np.exp(lasso.predict(X_test))\n",
    "\n",
    "\n",
    "# Model scoring\n",
    "print('Model Lasso, OneHotEncoder, RobustScaler')\n",
    "print('Prediction of: TotalGHGEmissions \\n')\n",
    "\n",
    "print(grid.best_params_)\n",
    "\n",
    "mae = mean_absolute_error(y_pred, y_test)\n",
    "print('MAE :', mae)\n",
    "rmse = mean_squared_error(y_pred, y_test)\n",
    "print('RMSE :', rmse)\n",
    "med_abs_err = median_absolute_error(y_pred, y_test)\n",
    "print('median abs err :', med_abs_err)\n",
    "rmsle = mean_squared_log_error(y_pred, y_test)\n",
    "print('RMSLE :', rmsle)\n",
    "R2_train = lasso.score(X_train, np.log(y_train))\n",
    "print('R2_train : ', R2_train)\n",
    "R2_test = lasso.score(X_test, np.log(y_test))\n",
    "print('R2_test : ', R2_test)\n",
    "\n",
    "print('Execution time in seconds: ' + str(executionTime), '\\n')\n",
    "\n",
    "err_hist = np.abs(y_test - y_pred)\n",
    "plt.hist(np.log(err_hist), bins=50)\n",
    "plt.show()"
   ]
  },
  {
   "cell_type": "code",
   "execution_count": null,
   "id": "51cfdfa7-4140-4968-81da-22432af1fa48",
   "metadata": {},
   "outputs": [],
   "source": []
  }
 ],
 "metadata": {
  "kernelspec": {
   "display_name": "Python 3 (ipykernel)",
   "language": "python",
   "name": "python3"
  },
  "language_info": {
   "codemirror_mode": {
    "name": "ipython",
    "version": 3
   },
   "file_extension": ".py",
   "mimetype": "text/x-python",
   "name": "python",
   "nbconvert_exporter": "python",
   "pygments_lexer": "ipython3",
   "version": "3.9.11"
  }
 },
 "nbformat": 4,
 "nbformat_minor": 5
}
